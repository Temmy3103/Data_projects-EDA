{
 "cells": [
  {
   "cell_type": "markdown",
   "id": "4af73524",
   "metadata": {
    "papermill": {
     "duration": 0.020715,
     "end_time": "2024-05-18T22:04:43.092949",
     "exception": false,
     "start_time": "2024-05-18T22:04:43.072234",
     "status": "completed"
    },
    "tags": []
   },
   "source": [
    "Data Preparation\n",
    "\n",
    "1.Data Loading\n",
    "* The dataset was loaded into a python environment using panda, numpy, matplotlib and seaborn libraries."
   ]
  },
  {
   "cell_type": "markdown",
   "id": "248e00f9",
   "metadata": {
    "papermill": {
     "duration": 0.019986,
     "end_time": "2024-05-18T22:04:43.133291",
     "exception": false,
     "start_time": "2024-05-18T22:04:43.113305",
     "status": "completed"
    },
    "tags": []
   },
   "source": [
    "**Import Required libraries**"
   ]
  },
  {
   "cell_type": "code",
   "execution_count": 1,
   "id": "a2f09328",
   "metadata": {
    "execution": {
     "iopub.execute_input": "2024-05-18T22:04:43.177122Z",
     "iopub.status.busy": "2024-05-18T22:04:43.176659Z",
     "iopub.status.idle": "2024-05-18T22:04:45.892988Z",
     "shell.execute_reply": "2024-05-18T22:04:45.891726Z"
    },
    "papermill": {
     "duration": 2.742843,
     "end_time": "2024-05-18T22:04:45.896179",
     "exception": false,
     "start_time": "2024-05-18T22:04:43.153336",
     "status": "completed"
    },
    "tags": []
   },
   "outputs": [],
   "source": [
    "import pandas as pd\n",
    "import numpy as np\n",
    "import matplotlib.pyplot as plt\n",
    "import seaborn as sns"
   ]
  },
  {
   "cell_type": "markdown",
   "id": "5b07c4f5",
   "metadata": {
    "papermill": {
     "duration": 0.019977,
     "end_time": "2024-05-18T22:04:45.937069",
     "exception": false,
     "start_time": "2024-05-18T22:04:45.917092",
     "status": "completed"
    },
    "tags": []
   },
   "source": [
    "Load Data\n",
    "* loading csv data to a DataFrame"
   ]
  },
  {
   "cell_type": "code",
   "execution_count": 2,
   "id": "a37d2c42",
   "metadata": {
    "execution": {
     "iopub.execute_input": "2024-05-18T22:04:45.980069Z",
     "iopub.status.busy": "2024-05-18T22:04:45.979458Z",
     "iopub.status.idle": "2024-05-18T22:04:46.008976Z",
     "shell.execute_reply": "2024-05-18T22:04:46.007589Z"
    },
    "papermill": {
     "duration": 0.054422,
     "end_time": "2024-05-18T22:04:46.011939",
     "exception": false,
     "start_time": "2024-05-18T22:04:45.957517",
     "status": "completed"
    },
    "tags": []
   },
   "outputs": [],
   "source": [
    "Health_insurance_data = pd.read_csv('/kaggle/input/health-insurance-dataset/insurance.csv')"
   ]
  },
  {
   "cell_type": "code",
   "execution_count": 3,
   "id": "122fd07d",
   "metadata": {
    "execution": {
     "iopub.execute_input": "2024-05-18T22:04:46.054878Z",
     "iopub.status.busy": "2024-05-18T22:04:46.054410Z",
     "iopub.status.idle": "2024-05-18T22:04:46.064354Z",
     "shell.execute_reply": "2024-05-18T22:04:46.062949Z"
    },
    "papermill": {
     "duration": 0.034527,
     "end_time": "2024-05-18T22:04:46.067027",
     "exception": false,
     "start_time": "2024-05-18T22:04:46.032500",
     "status": "completed"
    },
    "tags": []
   },
   "outputs": [
    {
     "data": {
      "text/plain": [
       "pandas.core.frame.DataFrame"
      ]
     },
     "execution_count": 3,
     "metadata": {},
     "output_type": "execute_result"
    }
   ],
   "source": [
    "type(Health_insurance_data)"
   ]
  },
  {
   "cell_type": "code",
   "execution_count": 4,
   "id": "bef0250e",
   "metadata": {
    "execution": {
     "iopub.execute_input": "2024-05-18T22:04:46.111283Z",
     "iopub.status.busy": "2024-05-18T22:04:46.110815Z",
     "iopub.status.idle": "2024-05-18T22:04:46.147090Z",
     "shell.execute_reply": "2024-05-18T22:04:46.145610Z"
    },
    "papermill": {
     "duration": 0.061707,
     "end_time": "2024-05-18T22:04:46.149878",
     "exception": false,
     "start_time": "2024-05-18T22:04:46.088171",
     "status": "completed"
    },
    "tags": []
   },
   "outputs": [
    {
     "data": {
      "text/html": [
       "<div>\n",
       "<style scoped>\n",
       "    .dataframe tbody tr th:only-of-type {\n",
       "        vertical-align: middle;\n",
       "    }\n",
       "\n",
       "    .dataframe tbody tr th {\n",
       "        vertical-align: top;\n",
       "    }\n",
       "\n",
       "    .dataframe thead th {\n",
       "        text-align: right;\n",
       "    }\n",
       "</style>\n",
       "<table border=\"1\" class=\"dataframe\">\n",
       "  <thead>\n",
       "    <tr style=\"text-align: right;\">\n",
       "      <th></th>\n",
       "      <th>age</th>\n",
       "      <th>sex</th>\n",
       "      <th>bmi</th>\n",
       "      <th>children</th>\n",
       "      <th>smoker</th>\n",
       "      <th>region</th>\n",
       "      <th>charges</th>\n",
       "    </tr>\n",
       "  </thead>\n",
       "  <tbody>\n",
       "    <tr>\n",
       "      <th>0</th>\n",
       "      <td>19</td>\n",
       "      <td>female</td>\n",
       "      <td>27.900</td>\n",
       "      <td>0</td>\n",
       "      <td>yes</td>\n",
       "      <td>southwest</td>\n",
       "      <td>16884.92400</td>\n",
       "    </tr>\n",
       "    <tr>\n",
       "      <th>1</th>\n",
       "      <td>18</td>\n",
       "      <td>male</td>\n",
       "      <td>33.770</td>\n",
       "      <td>1</td>\n",
       "      <td>no</td>\n",
       "      <td>southeast</td>\n",
       "      <td>1725.55230</td>\n",
       "    </tr>\n",
       "    <tr>\n",
       "      <th>2</th>\n",
       "      <td>28</td>\n",
       "      <td>male</td>\n",
       "      <td>33.000</td>\n",
       "      <td>3</td>\n",
       "      <td>no</td>\n",
       "      <td>southeast</td>\n",
       "      <td>4449.46200</td>\n",
       "    </tr>\n",
       "    <tr>\n",
       "      <th>3</th>\n",
       "      <td>33</td>\n",
       "      <td>male</td>\n",
       "      <td>22.705</td>\n",
       "      <td>0</td>\n",
       "      <td>no</td>\n",
       "      <td>northwest</td>\n",
       "      <td>21984.47061</td>\n",
       "    </tr>\n",
       "    <tr>\n",
       "      <th>4</th>\n",
       "      <td>32</td>\n",
       "      <td>male</td>\n",
       "      <td>28.880</td>\n",
       "      <td>0</td>\n",
       "      <td>no</td>\n",
       "      <td>northwest</td>\n",
       "      <td>3866.85520</td>\n",
       "    </tr>\n",
       "    <tr>\n",
       "      <th>...</th>\n",
       "      <td>...</td>\n",
       "      <td>...</td>\n",
       "      <td>...</td>\n",
       "      <td>...</td>\n",
       "      <td>...</td>\n",
       "      <td>...</td>\n",
       "      <td>...</td>\n",
       "    </tr>\n",
       "    <tr>\n",
       "      <th>1333</th>\n",
       "      <td>50</td>\n",
       "      <td>male</td>\n",
       "      <td>30.970</td>\n",
       "      <td>3</td>\n",
       "      <td>no</td>\n",
       "      <td>northwest</td>\n",
       "      <td>10600.54830</td>\n",
       "    </tr>\n",
       "    <tr>\n",
       "      <th>1334</th>\n",
       "      <td>18</td>\n",
       "      <td>female</td>\n",
       "      <td>31.920</td>\n",
       "      <td>0</td>\n",
       "      <td>no</td>\n",
       "      <td>northeast</td>\n",
       "      <td>2205.98080</td>\n",
       "    </tr>\n",
       "    <tr>\n",
       "      <th>1335</th>\n",
       "      <td>18</td>\n",
       "      <td>female</td>\n",
       "      <td>36.850</td>\n",
       "      <td>0</td>\n",
       "      <td>no</td>\n",
       "      <td>southeast</td>\n",
       "      <td>1629.83350</td>\n",
       "    </tr>\n",
       "    <tr>\n",
       "      <th>1336</th>\n",
       "      <td>21</td>\n",
       "      <td>female</td>\n",
       "      <td>25.800</td>\n",
       "      <td>0</td>\n",
       "      <td>no</td>\n",
       "      <td>southwest</td>\n",
       "      <td>2007.94500</td>\n",
       "    </tr>\n",
       "    <tr>\n",
       "      <th>1337</th>\n",
       "      <td>61</td>\n",
       "      <td>female</td>\n",
       "      <td>29.070</td>\n",
       "      <td>0</td>\n",
       "      <td>yes</td>\n",
       "      <td>northwest</td>\n",
       "      <td>29141.36030</td>\n",
       "    </tr>\n",
       "  </tbody>\n",
       "</table>\n",
       "<p>1338 rows × 7 columns</p>\n",
       "</div>"
      ],
      "text/plain": [
       "      age     sex     bmi  children smoker     region      charges\n",
       "0      19  female  27.900         0    yes  southwest  16884.92400\n",
       "1      18    male  33.770         1     no  southeast   1725.55230\n",
       "2      28    male  33.000         3     no  southeast   4449.46200\n",
       "3      33    male  22.705         0     no  northwest  21984.47061\n",
       "4      32    male  28.880         0     no  northwest   3866.85520\n",
       "...   ...     ...     ...       ...    ...        ...          ...\n",
       "1333   50    male  30.970         3     no  northwest  10600.54830\n",
       "1334   18  female  31.920         0     no  northeast   2205.98080\n",
       "1335   18  female  36.850         0     no  southeast   1629.83350\n",
       "1336   21  female  25.800         0     no  southwest   2007.94500\n",
       "1337   61  female  29.070         0    yes  northwest  29141.36030\n",
       "\n",
       "[1338 rows x 7 columns]"
      ]
     },
     "execution_count": 4,
     "metadata": {},
     "output_type": "execute_result"
    }
   ],
   "source": [
    "#Having a view of our health insurance dataset\n",
    "Health_insurance_data"
   ]
  },
  {
   "cell_type": "markdown",
   "id": "8cd0e9a5",
   "metadata": {
    "papermill": {
     "duration": 0.020593,
     "end_time": "2024-05-18T22:04:46.191396",
     "exception": false,
     "start_time": "2024-05-18T22:04:46.170803",
     "status": "completed"
    },
    "tags": []
   },
   "source": [
    "**Details about Dataset \n",
    "* *** such as number of rows,\n",
    "* *** list of columns,\n",
    "* columns names\n",
    "* *** columns datatype,\n",
    "* *** dataset informatio**n******"
   ]
  },
  {
   "cell_type": "markdown",
   "id": "c9f64dbb",
   "metadata": {
    "papermill": {
     "duration": 0.021401,
     "end_time": "2024-05-18T22:04:46.233860",
     "exception": false,
     "start_time": "2024-05-18T22:04:46.212459",
     "status": "completed"
    },
    "tags": []
   },
   "source": []
  },
  {
   "cell_type": "code",
   "execution_count": 5,
   "id": "a9eb555a",
   "metadata": {
    "execution": {
     "iopub.execute_input": "2024-05-18T22:04:46.277977Z",
     "iopub.status.busy": "2024-05-18T22:04:46.277094Z",
     "iopub.status.idle": "2024-05-18T22:04:46.283821Z",
     "shell.execute_reply": "2024-05-18T22:04:46.282643Z"
    },
    "papermill": {
     "duration": 0.032404,
     "end_time": "2024-05-18T22:04:46.286965",
     "exception": false,
     "start_time": "2024-05-18T22:04:46.254561",
     "status": "completed"
    },
    "tags": []
   },
   "outputs": [
    {
     "name": "stdout",
     "output_type": "stream",
     "text": [
      "number of rows =  1338\n",
      "number of columns =  7\n"
     ]
    }
   ],
   "source": [
    "no_of_rows = Health_insurance_data.shape[0]\n",
    "no_of_column = Health_insurance_data.shape[1]\n",
    "                                    \n",
    "print('number of rows = ', no_of_rows)\n",
    "print('number of columns = ', no_of_column)"
   ]
  },
  {
   "cell_type": "code",
   "execution_count": 6,
   "id": "e719d5fd",
   "metadata": {
    "execution": {
     "iopub.execute_input": "2024-05-18T22:04:46.332323Z",
     "iopub.status.busy": "2024-05-18T22:04:46.331855Z",
     "iopub.status.idle": "2024-05-18T22:04:46.339492Z",
     "shell.execute_reply": "2024-05-18T22:04:46.338558Z"
    },
    "papermill": {
     "duration": 0.033129,
     "end_time": "2024-05-18T22:04:46.341775",
     "exception": false,
     "start_time": "2024-05-18T22:04:46.308646",
     "status": "completed"
    },
    "tags": []
   },
   "outputs": [
    {
     "data": {
      "text/plain": [
       "Index(['age', 'sex', 'bmi', 'children', 'smoker', 'region', 'charges'], dtype='object')"
      ]
     },
     "execution_count": 6,
     "metadata": {},
     "output_type": "execute_result"
    }
   ],
   "source": [
    "Health_insurance_data.columns"
   ]
  },
  {
   "cell_type": "code",
   "execution_count": 7,
   "id": "1e767793",
   "metadata": {
    "execution": {
     "iopub.execute_input": "2024-05-18T22:04:46.387492Z",
     "iopub.status.busy": "2024-05-18T22:04:46.386365Z",
     "iopub.status.idle": "2024-05-18T22:04:46.395340Z",
     "shell.execute_reply": "2024-05-18T22:04:46.394122Z"
    },
    "papermill": {
     "duration": 0.034708,
     "end_time": "2024-05-18T22:04:46.397879",
     "exception": false,
     "start_time": "2024-05-18T22:04:46.363171",
     "status": "completed"
    },
    "tags": []
   },
   "outputs": [
    {
     "data": {
      "text/plain": [
       "age           int64\n",
       "sex          object\n",
       "bmi         float64\n",
       "children      int64\n",
       "smoker       object\n",
       "region       object\n",
       "charges     float64\n",
       "dtype: object"
      ]
     },
     "execution_count": 7,
     "metadata": {},
     "output_type": "execute_result"
    }
   ],
   "source": [
    "Health_insurance_data.dtypes"
   ]
  },
  {
   "cell_type": "code",
   "execution_count": 8,
   "id": "08052086",
   "metadata": {
    "execution": {
     "iopub.execute_input": "2024-05-18T22:04:46.445413Z",
     "iopub.status.busy": "2024-05-18T22:04:46.444117Z",
     "iopub.status.idle": "2024-05-18T22:04:46.473259Z",
     "shell.execute_reply": "2024-05-18T22:04:46.471248Z"
    },
    "papermill": {
     "duration": 0.056715,
     "end_time": "2024-05-18T22:04:46.476283",
     "exception": false,
     "start_time": "2024-05-18T22:04:46.419568",
     "status": "completed"
    },
    "tags": []
   },
   "outputs": [
    {
     "name": "stdout",
     "output_type": "stream",
     "text": [
      "<class 'pandas.core.frame.DataFrame'>\n",
      "RangeIndex: 1338 entries, 0 to 1337\n",
      "Data columns (total 7 columns):\n",
      " #   Column    Non-Null Count  Dtype  \n",
      "---  ------    --------------  -----  \n",
      " 0   age       1338 non-null   int64  \n",
      " 1   sex       1338 non-null   object \n",
      " 2   bmi       1338 non-null   float64\n",
      " 3   children  1338 non-null   int64  \n",
      " 4   smoker    1338 non-null   object \n",
      " 5   region    1338 non-null   object \n",
      " 6   charges   1338 non-null   float64\n",
      "dtypes: float64(2), int64(2), object(3)\n",
      "memory usage: 73.3+ KB\n"
     ]
    }
   ],
   "source": [
    "Health_insurance_data.info()"
   ]
  },
  {
   "cell_type": "markdown",
   "id": "d8c5cd8f",
   "metadata": {
    "papermill": {
     "duration": 0.021706,
     "end_time": "2024-05-18T22:04:46.521106",
     "exception": false,
     "start_time": "2024-05-18T22:04:46.499400",
     "status": "completed"
    },
    "tags": []
   },
   "source": []
  },
  {
   "cell_type": "markdown",
   "id": "a3feaf2a",
   "metadata": {
    "papermill": {
     "duration": 0.020938,
     "end_time": "2024-05-18T22:04:46.563201",
     "exception": false,
     "start_time": "2024-05-18T22:04:46.542263",
     "status": "completed"
    },
    "tags": []
   },
   "source": [
    "**Checking for Duplicate Records**"
   ]
  },
  {
   "cell_type": "code",
   "execution_count": 9,
   "id": "62cc0602",
   "metadata": {
    "execution": {
     "iopub.execute_input": "2024-05-18T22:04:46.610233Z",
     "iopub.status.busy": "2024-05-18T22:04:46.609763Z",
     "iopub.status.idle": "2024-05-18T22:04:46.620406Z",
     "shell.execute_reply": "2024-05-18T22:04:46.619069Z"
    },
    "papermill": {
     "duration": 0.036227,
     "end_time": "2024-05-18T22:04:46.622884",
     "exception": false,
     "start_time": "2024-05-18T22:04:46.586657",
     "status": "completed"
    },
    "tags": []
   },
   "outputs": [
    {
     "data": {
      "text/plain": [
       "True"
      ]
     },
     "execution_count": 9,
     "metadata": {},
     "output_type": "execute_result"
    }
   ],
   "source": [
    "Health_insurance_data.duplicated().any()"
   ]
  },
  {
   "cell_type": "code",
   "execution_count": 10,
   "id": "be0caae5",
   "metadata": {
    "execution": {
     "iopub.execute_input": "2024-05-18T22:04:46.667918Z",
     "iopub.status.busy": "2024-05-18T22:04:46.667389Z",
     "iopub.status.idle": "2024-05-18T22:04:46.679214Z",
     "shell.execute_reply": "2024-05-18T22:04:46.677922Z"
    },
    "papermill": {
     "duration": 0.0374,
     "end_time": "2024-05-18T22:04:46.681731",
     "exception": false,
     "start_time": "2024-05-18T22:04:46.644331",
     "status": "completed"
    },
    "tags": []
   },
   "outputs": [
    {
     "data": {
      "text/plain": [
       "0       False\n",
       "1       False\n",
       "2       False\n",
       "3       False\n",
       "4       False\n",
       "        ...  \n",
       "1333    False\n",
       "1334    False\n",
       "1335    False\n",
       "1336    False\n",
       "1337    False\n",
       "Length: 1338, dtype: bool"
      ]
     },
     "execution_count": 10,
     "metadata": {},
     "output_type": "execute_result"
    }
   ],
   "source": [
    "Health_insurance_data.duplicated()"
   ]
  },
  {
   "cell_type": "markdown",
   "id": "f02497fe",
   "metadata": {
    "papermill": {
     "duration": 0.021468,
     "end_time": "2024-05-18T22:04:46.724860",
     "exception": false,
     "start_time": "2024-05-18T22:04:46.703392",
     "status": "completed"
    },
    "tags": []
   },
   "source": [
    "**The Dataset contains a duplicate, it is best practise to have a copy of our data before cleaning the data**."
   ]
  },
  {
   "cell_type": "code",
   "execution_count": 11,
   "id": "4ee60633",
   "metadata": {
    "execution": {
     "iopub.execute_input": "2024-05-18T22:04:46.772685Z",
     "iopub.status.busy": "2024-05-18T22:04:46.771296Z",
     "iopub.status.idle": "2024-05-18T22:04:46.790830Z",
     "shell.execute_reply": "2024-05-18T22:04:46.789606Z"
    },
    "papermill": {
     "duration": 0.045371,
     "end_time": "2024-05-18T22:04:46.793386",
     "exception": false,
     "start_time": "2024-05-18T22:04:46.748015",
     "status": "completed"
    },
    "tags": []
   },
   "outputs": [
    {
     "data": {
      "text/html": [
       "<div>\n",
       "<style scoped>\n",
       "    .dataframe tbody tr th:only-of-type {\n",
       "        vertical-align: middle;\n",
       "    }\n",
       "\n",
       "    .dataframe tbody tr th {\n",
       "        vertical-align: top;\n",
       "    }\n",
       "\n",
       "    .dataframe thead th {\n",
       "        text-align: right;\n",
       "    }\n",
       "</style>\n",
       "<table border=\"1\" class=\"dataframe\">\n",
       "  <thead>\n",
       "    <tr style=\"text-align: right;\">\n",
       "      <th></th>\n",
       "      <th>age</th>\n",
       "      <th>sex</th>\n",
       "      <th>bmi</th>\n",
       "      <th>children</th>\n",
       "      <th>smoker</th>\n",
       "      <th>region</th>\n",
       "      <th>charges</th>\n",
       "    </tr>\n",
       "  </thead>\n",
       "  <tbody>\n",
       "    <tr>\n",
       "      <th>0</th>\n",
       "      <td>19</td>\n",
       "      <td>female</td>\n",
       "      <td>27.900</td>\n",
       "      <td>0</td>\n",
       "      <td>yes</td>\n",
       "      <td>southwest</td>\n",
       "      <td>16884.92400</td>\n",
       "    </tr>\n",
       "    <tr>\n",
       "      <th>1</th>\n",
       "      <td>18</td>\n",
       "      <td>male</td>\n",
       "      <td>33.770</td>\n",
       "      <td>1</td>\n",
       "      <td>no</td>\n",
       "      <td>southeast</td>\n",
       "      <td>1725.55230</td>\n",
       "    </tr>\n",
       "    <tr>\n",
       "      <th>2</th>\n",
       "      <td>28</td>\n",
       "      <td>male</td>\n",
       "      <td>33.000</td>\n",
       "      <td>3</td>\n",
       "      <td>no</td>\n",
       "      <td>southeast</td>\n",
       "      <td>4449.46200</td>\n",
       "    </tr>\n",
       "    <tr>\n",
       "      <th>3</th>\n",
       "      <td>33</td>\n",
       "      <td>male</td>\n",
       "      <td>22.705</td>\n",
       "      <td>0</td>\n",
       "      <td>no</td>\n",
       "      <td>northwest</td>\n",
       "      <td>21984.47061</td>\n",
       "    </tr>\n",
       "    <tr>\n",
       "      <th>4</th>\n",
       "      <td>32</td>\n",
       "      <td>male</td>\n",
       "      <td>28.880</td>\n",
       "      <td>0</td>\n",
       "      <td>no</td>\n",
       "      <td>northwest</td>\n",
       "      <td>3866.85520</td>\n",
       "    </tr>\n",
       "    <tr>\n",
       "      <th>...</th>\n",
       "      <td>...</td>\n",
       "      <td>...</td>\n",
       "      <td>...</td>\n",
       "      <td>...</td>\n",
       "      <td>...</td>\n",
       "      <td>...</td>\n",
       "      <td>...</td>\n",
       "    </tr>\n",
       "    <tr>\n",
       "      <th>1333</th>\n",
       "      <td>50</td>\n",
       "      <td>male</td>\n",
       "      <td>30.970</td>\n",
       "      <td>3</td>\n",
       "      <td>no</td>\n",
       "      <td>northwest</td>\n",
       "      <td>10600.54830</td>\n",
       "    </tr>\n",
       "    <tr>\n",
       "      <th>1334</th>\n",
       "      <td>18</td>\n",
       "      <td>female</td>\n",
       "      <td>31.920</td>\n",
       "      <td>0</td>\n",
       "      <td>no</td>\n",
       "      <td>northeast</td>\n",
       "      <td>2205.98080</td>\n",
       "    </tr>\n",
       "    <tr>\n",
       "      <th>1335</th>\n",
       "      <td>18</td>\n",
       "      <td>female</td>\n",
       "      <td>36.850</td>\n",
       "      <td>0</td>\n",
       "      <td>no</td>\n",
       "      <td>southeast</td>\n",
       "      <td>1629.83350</td>\n",
       "    </tr>\n",
       "    <tr>\n",
       "      <th>1336</th>\n",
       "      <td>21</td>\n",
       "      <td>female</td>\n",
       "      <td>25.800</td>\n",
       "      <td>0</td>\n",
       "      <td>no</td>\n",
       "      <td>southwest</td>\n",
       "      <td>2007.94500</td>\n",
       "    </tr>\n",
       "    <tr>\n",
       "      <th>1337</th>\n",
       "      <td>61</td>\n",
       "      <td>female</td>\n",
       "      <td>29.070</td>\n",
       "      <td>0</td>\n",
       "      <td>yes</td>\n",
       "      <td>northwest</td>\n",
       "      <td>29141.36030</td>\n",
       "    </tr>\n",
       "  </tbody>\n",
       "</table>\n",
       "<p>1338 rows × 7 columns</p>\n",
       "</div>"
      ],
      "text/plain": [
       "      age     sex     bmi  children smoker     region      charges\n",
       "0      19  female  27.900         0    yes  southwest  16884.92400\n",
       "1      18    male  33.770         1     no  southeast   1725.55230\n",
       "2      28    male  33.000         3     no  southeast   4449.46200\n",
       "3      33    male  22.705         0     no  northwest  21984.47061\n",
       "4      32    male  28.880         0     no  northwest   3866.85520\n",
       "...   ...     ...     ...       ...    ...        ...          ...\n",
       "1333   50    male  30.970         3     no  northwest  10600.54830\n",
       "1334   18  female  31.920         0     no  northeast   2205.98080\n",
       "1335   18  female  36.850         0     no  southeast   1629.83350\n",
       "1336   21  female  25.800         0     no  southwest   2007.94500\n",
       "1337   61  female  29.070         0    yes  northwest  29141.36030\n",
       "\n",
       "[1338 rows x 7 columns]"
      ]
     },
     "execution_count": 11,
     "metadata": {},
     "output_type": "execute_result"
    }
   ],
   "source": [
    "health_insurance_copy = Health_insurance_data.copy()\n",
    "health_insurance_copy"
   ]
  },
  {
   "cell_type": "markdown",
   "id": "603bf23a",
   "metadata": {
    "papermill": {
     "duration": 0.023125,
     "end_time": "2024-05-18T22:04:46.839143",
     "exception": false,
     "start_time": "2024-05-18T22:04:46.816018",
     "status": "completed"
    },
    "tags": []
   },
   "source": [
    "**DATA CLEANING**\n",
    "\n",
    "check for duplicates and null values."
   ]
  },
  {
   "cell_type": "code",
   "execution_count": 12,
   "id": "009f0dd0",
   "metadata": {
    "execution": {
     "iopub.execute_input": "2024-05-18T22:04:46.886731Z",
     "iopub.status.busy": "2024-05-18T22:04:46.886326Z",
     "iopub.status.idle": "2024-05-18T22:04:46.902332Z",
     "shell.execute_reply": "2024-05-18T22:04:46.901221Z"
    },
    "papermill": {
     "duration": 0.042554,
     "end_time": "2024-05-18T22:04:46.904668",
     "exception": false,
     "start_time": "2024-05-18T22:04:46.862114",
     "status": "completed"
    },
    "tags": []
   },
   "outputs": [
    {
     "data": {
      "text/html": [
       "<div>\n",
       "<style scoped>\n",
       "    .dataframe tbody tr th:only-of-type {\n",
       "        vertical-align: middle;\n",
       "    }\n",
       "\n",
       "    .dataframe tbody tr th {\n",
       "        vertical-align: top;\n",
       "    }\n",
       "\n",
       "    .dataframe thead th {\n",
       "        text-align: right;\n",
       "    }\n",
       "</style>\n",
       "<table border=\"1\" class=\"dataframe\">\n",
       "  <thead>\n",
       "    <tr style=\"text-align: right;\">\n",
       "      <th></th>\n",
       "      <th>age</th>\n",
       "      <th>sex</th>\n",
       "      <th>bmi</th>\n",
       "      <th>children</th>\n",
       "      <th>smoker</th>\n",
       "      <th>region</th>\n",
       "      <th>charges</th>\n",
       "    </tr>\n",
       "  </thead>\n",
       "  <tbody>\n",
       "    <tr>\n",
       "      <th>581</th>\n",
       "      <td>19</td>\n",
       "      <td>male</td>\n",
       "      <td>30.59</td>\n",
       "      <td>0</td>\n",
       "      <td>no</td>\n",
       "      <td>northwest</td>\n",
       "      <td>1639.5631</td>\n",
       "    </tr>\n",
       "  </tbody>\n",
       "</table>\n",
       "</div>"
      ],
      "text/plain": [
       "     age   sex    bmi  children smoker     region    charges\n",
       "581   19  male  30.59         0     no  northwest  1639.5631"
      ]
     },
     "execution_count": 12,
     "metadata": {},
     "output_type": "execute_result"
    }
   ],
   "source": [
    "health_insurance_copy[health_insurance_copy.duplicated()]"
   ]
  },
  {
   "cell_type": "code",
   "execution_count": 13,
   "id": "d41f8a31",
   "metadata": {
    "execution": {
     "iopub.execute_input": "2024-05-18T22:04:47.023345Z",
     "iopub.status.busy": "2024-05-18T22:04:47.022935Z",
     "iopub.status.idle": "2024-05-18T22:04:47.036256Z",
     "shell.execute_reply": "2024-05-18T22:04:47.035132Z"
    },
    "papermill": {
     "duration": 0.041279,
     "end_time": "2024-05-18T22:04:47.039141",
     "exception": false,
     "start_time": "2024-05-18T22:04:46.997862",
     "status": "completed"
    },
    "tags": []
   },
   "outputs": [
    {
     "data": {
      "text/html": [
       "<div>\n",
       "<style scoped>\n",
       "    .dataframe tbody tr th:only-of-type {\n",
       "        vertical-align: middle;\n",
       "    }\n",
       "\n",
       "    .dataframe tbody tr th {\n",
       "        vertical-align: top;\n",
       "    }\n",
       "\n",
       "    .dataframe thead th {\n",
       "        text-align: right;\n",
       "    }\n",
       "</style>\n",
       "<table border=\"1\" class=\"dataframe\">\n",
       "  <thead>\n",
       "    <tr style=\"text-align: right;\">\n",
       "      <th></th>\n",
       "      <th>age</th>\n",
       "      <th>sex</th>\n",
       "      <th>bmi</th>\n",
       "      <th>children</th>\n",
       "      <th>smoker</th>\n",
       "      <th>region</th>\n",
       "      <th>charges</th>\n",
       "    </tr>\n",
       "  </thead>\n",
       "  <tbody>\n",
       "    <tr>\n",
       "      <th>195</th>\n",
       "      <td>19</td>\n",
       "      <td>male</td>\n",
       "      <td>30.59</td>\n",
       "      <td>0</td>\n",
       "      <td>no</td>\n",
       "      <td>northwest</td>\n",
       "      <td>1639.5631</td>\n",
       "    </tr>\n",
       "    <tr>\n",
       "      <th>581</th>\n",
       "      <td>19</td>\n",
       "      <td>male</td>\n",
       "      <td>30.59</td>\n",
       "      <td>0</td>\n",
       "      <td>no</td>\n",
       "      <td>northwest</td>\n",
       "      <td>1639.5631</td>\n",
       "    </tr>\n",
       "  </tbody>\n",
       "</table>\n",
       "</div>"
      ],
      "text/plain": [
       "     age   sex    bmi  children smoker     region    charges\n",
       "195   19  male  30.59         0     no  northwest  1639.5631\n",
       "581   19  male  30.59         0     no  northwest  1639.5631"
      ]
     },
     "execution_count": 13,
     "metadata": {},
     "output_type": "execute_result"
    }
   ],
   "source": [
    "# Displaying Duplicated Records\n",
    "health_insurance_copy[health_insurance_copy['charges'] == 1639.5631]\n"
   ]
  },
  {
   "cell_type": "code",
   "execution_count": 14,
   "id": "5a816fba",
   "metadata": {
    "execution": {
     "iopub.execute_input": "2024-05-18T22:04:47.086361Z",
     "iopub.status.busy": "2024-05-18T22:04:47.085935Z",
     "iopub.status.idle": "2024-05-18T22:04:47.094319Z",
     "shell.execute_reply": "2024-05-18T22:04:47.093108Z"
    },
    "papermill": {
     "duration": 0.035444,
     "end_time": "2024-05-18T22:04:47.097188",
     "exception": false,
     "start_time": "2024-05-18T22:04:47.061744",
     "status": "completed"
    },
    "tags": []
   },
   "outputs": [],
   "source": [
    "#Drop Duplicate\n",
    "health_insurance_copy1 = health_insurance_copy.drop_duplicates()"
   ]
  },
  {
   "cell_type": "code",
   "execution_count": 15,
   "id": "3102d761",
   "metadata": {
    "execution": {
     "iopub.execute_input": "2024-05-18T22:04:47.145471Z",
     "iopub.status.busy": "2024-05-18T22:04:47.145100Z",
     "iopub.status.idle": "2024-05-18T22:04:47.151620Z",
     "shell.execute_reply": "2024-05-18T22:04:47.150649Z"
    },
    "papermill": {
     "duration": 0.033729,
     "end_time": "2024-05-18T22:04:47.154022",
     "exception": false,
     "start_time": "2024-05-18T22:04:47.120293",
     "status": "completed"
    },
    "tags": []
   },
   "outputs": [
    {
     "data": {
      "text/plain": [
       "(1337, 7)"
      ]
     },
     "execution_count": 15,
     "metadata": {},
     "output_type": "execute_result"
    }
   ],
   "source": [
    "health_insurance_copy1.shape"
   ]
  },
  {
   "cell_type": "code",
   "execution_count": 16,
   "id": "e7107d02",
   "metadata": {
    "execution": {
     "iopub.execute_input": "2024-05-18T22:04:47.201890Z",
     "iopub.status.busy": "2024-05-18T22:04:47.201491Z",
     "iopub.status.idle": "2024-05-18T22:04:47.213923Z",
     "shell.execute_reply": "2024-05-18T22:04:47.212604Z"
    },
    "papermill": {
     "duration": 0.039665,
     "end_time": "2024-05-18T22:04:47.216208",
     "exception": false,
     "start_time": "2024-05-18T22:04:47.176543",
     "status": "completed"
    },
    "tags": []
   },
   "outputs": [
    {
     "data": {
      "text/plain": [
       "<bound method DataFrame.any of         age    sex    bmi  children  smoker  region  charges\n",
       "0     False  False  False     False   False   False    False\n",
       "1     False  False  False     False   False   False    False\n",
       "2     False  False  False     False   False   False    False\n",
       "3     False  False  False     False   False   False    False\n",
       "4     False  False  False     False   False   False    False\n",
       "...     ...    ...    ...       ...     ...     ...      ...\n",
       "1333  False  False  False     False   False   False    False\n",
       "1334  False  False  False     False   False   False    False\n",
       "1335  False  False  False     False   False   False    False\n",
       "1336  False  False  False     False   False   False    False\n",
       "1337  False  False  False     False   False   False    False\n",
       "\n",
       "[1337 rows x 7 columns]>"
      ]
     },
     "execution_count": 16,
     "metadata": {},
     "output_type": "execute_result"
    }
   ],
   "source": [
    "#checking if there is a null value in the dataset\n",
    "health_insurance_copy1.isnull().any\n"
   ]
  },
  {
   "cell_type": "code",
   "execution_count": 17,
   "id": "5ab74adc",
   "metadata": {
    "execution": {
     "iopub.execute_input": "2024-05-18T22:04:47.263843Z",
     "iopub.status.busy": "2024-05-18T22:04:47.263368Z",
     "iopub.status.idle": "2024-05-18T22:04:47.273927Z",
     "shell.execute_reply": "2024-05-18T22:04:47.272764Z"
    },
    "papermill": {
     "duration": 0.037532,
     "end_time": "2024-05-18T22:04:47.276362",
     "exception": false,
     "start_time": "2024-05-18T22:04:47.238830",
     "status": "completed"
    },
    "tags": []
   },
   "outputs": [
    {
     "data": {
      "text/plain": [
       "age         0\n",
       "sex         0\n",
       "bmi         0\n",
       "children    0\n",
       "smoker      0\n",
       "region      0\n",
       "charges     0\n",
       "dtype: int64"
      ]
     },
     "execution_count": 17,
     "metadata": {},
     "output_type": "execute_result"
    }
   ],
   "source": [
    "health_insurance_copy1.isnull().sum()"
   ]
  },
  {
   "cell_type": "markdown",
   "id": "13c43a0e",
   "metadata": {
    "papermill": {
     "duration": 0.024219,
     "end_time": "2024-05-18T22:04:47.323908",
     "exception": false,
     "start_time": "2024-05-18T22:04:47.299689",
     "status": "completed"
    },
    "tags": []
   },
   "source": [
    "****STATISTICAL MEASURES:**"
   ]
  },
  {
   "cell_type": "code",
   "execution_count": 18,
   "id": "9cc853b8",
   "metadata": {
    "execution": {
     "iopub.execute_input": "2024-05-18T22:04:47.372198Z",
     "iopub.status.busy": "2024-05-18T22:04:47.371703Z",
     "iopub.status.idle": "2024-05-18T22:04:47.399748Z",
     "shell.execute_reply": "2024-05-18T22:04:47.398413Z"
    },
    "papermill": {
     "duration": 0.055614,
     "end_time": "2024-05-18T22:04:47.402385",
     "exception": false,
     "start_time": "2024-05-18T22:04:47.346771",
     "status": "completed"
    },
    "tags": []
   },
   "outputs": [
    {
     "data": {
      "text/html": [
       "<div>\n",
       "<style scoped>\n",
       "    .dataframe tbody tr th:only-of-type {\n",
       "        vertical-align: middle;\n",
       "    }\n",
       "\n",
       "    .dataframe tbody tr th {\n",
       "        vertical-align: top;\n",
       "    }\n",
       "\n",
       "    .dataframe thead th {\n",
       "        text-align: right;\n",
       "    }\n",
       "</style>\n",
       "<table border=\"1\" class=\"dataframe\">\n",
       "  <thead>\n",
       "    <tr style=\"text-align: right;\">\n",
       "      <th></th>\n",
       "      <th>age</th>\n",
       "      <th>bmi</th>\n",
       "      <th>children</th>\n",
       "      <th>charges</th>\n",
       "    </tr>\n",
       "  </thead>\n",
       "  <tbody>\n",
       "    <tr>\n",
       "      <th>count</th>\n",
       "      <td>1337.000000</td>\n",
       "      <td>1337.000000</td>\n",
       "      <td>1337.000000</td>\n",
       "      <td>1337.000000</td>\n",
       "    </tr>\n",
       "    <tr>\n",
       "      <th>mean</th>\n",
       "      <td>39.222139</td>\n",
       "      <td>30.663452</td>\n",
       "      <td>1.095737</td>\n",
       "      <td>13279.121487</td>\n",
       "    </tr>\n",
       "    <tr>\n",
       "      <th>std</th>\n",
       "      <td>14.044333</td>\n",
       "      <td>6.100468</td>\n",
       "      <td>1.205571</td>\n",
       "      <td>12110.359656</td>\n",
       "    </tr>\n",
       "    <tr>\n",
       "      <th>min</th>\n",
       "      <td>18.000000</td>\n",
       "      <td>15.960000</td>\n",
       "      <td>0.000000</td>\n",
       "      <td>1121.873900</td>\n",
       "    </tr>\n",
       "    <tr>\n",
       "      <th>25%</th>\n",
       "      <td>27.000000</td>\n",
       "      <td>26.290000</td>\n",
       "      <td>0.000000</td>\n",
       "      <td>4746.344000</td>\n",
       "    </tr>\n",
       "    <tr>\n",
       "      <th>50%</th>\n",
       "      <td>39.000000</td>\n",
       "      <td>30.400000</td>\n",
       "      <td>1.000000</td>\n",
       "      <td>9386.161300</td>\n",
       "    </tr>\n",
       "    <tr>\n",
       "      <th>75%</th>\n",
       "      <td>51.000000</td>\n",
       "      <td>34.700000</td>\n",
       "      <td>2.000000</td>\n",
       "      <td>16657.717450</td>\n",
       "    </tr>\n",
       "    <tr>\n",
       "      <th>max</th>\n",
       "      <td>64.000000</td>\n",
       "      <td>53.130000</td>\n",
       "      <td>5.000000</td>\n",
       "      <td>63770.428010</td>\n",
       "    </tr>\n",
       "  </tbody>\n",
       "</table>\n",
       "</div>"
      ],
      "text/plain": [
       "               age          bmi     children       charges\n",
       "count  1337.000000  1337.000000  1337.000000   1337.000000\n",
       "mean     39.222139    30.663452     1.095737  13279.121487\n",
       "std      14.044333     6.100468     1.205571  12110.359656\n",
       "min      18.000000    15.960000     0.000000   1121.873900\n",
       "25%      27.000000    26.290000     0.000000   4746.344000\n",
       "50%      39.000000    30.400000     1.000000   9386.161300\n",
       "75%      51.000000    34.700000     2.000000  16657.717450\n",
       "max      64.000000    53.130000     5.000000  63770.428010"
      ]
     },
     "execution_count": 18,
     "metadata": {},
     "output_type": "execute_result"
    }
   ],
   "source": [
    "# Q1 = 25% , Q2 = 50%, Q3 = 75% \n",
    "# IQR = Q3 - Q1\n",
    "# IQR used to find the outliers\n",
    "health_insurance_copy1.describe(include='number')"
   ]
  },
  {
   "cell_type": "code",
   "execution_count": 19,
   "id": "b219766d",
   "metadata": {
    "execution": {
     "iopub.execute_input": "2024-05-18T22:04:47.451297Z",
     "iopub.status.busy": "2024-05-18T22:04:47.450797Z",
     "iopub.status.idle": "2024-05-18T22:04:47.469986Z",
     "shell.execute_reply": "2024-05-18T22:04:47.468798Z"
    },
    "papermill": {
     "duration": 0.046612,
     "end_time": "2024-05-18T22:04:47.472508",
     "exception": false,
     "start_time": "2024-05-18T22:04:47.425896",
     "status": "completed"
    },
    "tags": []
   },
   "outputs": [
    {
     "data": {
      "text/html": [
       "<div>\n",
       "<style scoped>\n",
       "    .dataframe tbody tr th:only-of-type {\n",
       "        vertical-align: middle;\n",
       "    }\n",
       "\n",
       "    .dataframe tbody tr th {\n",
       "        vertical-align: top;\n",
       "    }\n",
       "\n",
       "    .dataframe thead th {\n",
       "        text-align: right;\n",
       "    }\n",
       "</style>\n",
       "<table border=\"1\" class=\"dataframe\">\n",
       "  <thead>\n",
       "    <tr style=\"text-align: right;\">\n",
       "      <th></th>\n",
       "      <th>sex</th>\n",
       "      <th>smoker</th>\n",
       "      <th>region</th>\n",
       "    </tr>\n",
       "  </thead>\n",
       "  <tbody>\n",
       "    <tr>\n",
       "      <th>count</th>\n",
       "      <td>1337</td>\n",
       "      <td>1337</td>\n",
       "      <td>1337</td>\n",
       "    </tr>\n",
       "    <tr>\n",
       "      <th>unique</th>\n",
       "      <td>2</td>\n",
       "      <td>2</td>\n",
       "      <td>4</td>\n",
       "    </tr>\n",
       "    <tr>\n",
       "      <th>top</th>\n",
       "      <td>male</td>\n",
       "      <td>no</td>\n",
       "      <td>southeast</td>\n",
       "    </tr>\n",
       "    <tr>\n",
       "      <th>freq</th>\n",
       "      <td>675</td>\n",
       "      <td>1063</td>\n",
       "      <td>364</td>\n",
       "    </tr>\n",
       "  </tbody>\n",
       "</table>\n",
       "</div>"
      ],
      "text/plain": [
       "         sex smoker     region\n",
       "count   1337   1337       1337\n",
       "unique     2      2          4\n",
       "top     male     no  southeast\n",
       "freq     675   1063        364"
      ]
     },
     "execution_count": 19,
     "metadata": {},
     "output_type": "execute_result"
    }
   ],
   "source": [
    "health_insurance_copy1.describe(exclude='number')"
   ]
  },
  {
   "cell_type": "code",
   "execution_count": 20,
   "id": "219f7be7",
   "metadata": {
    "execution": {
     "iopub.execute_input": "2024-05-18T22:04:47.523048Z",
     "iopub.status.busy": "2024-05-18T22:04:47.522558Z",
     "iopub.status.idle": "2024-05-18T22:04:47.543994Z",
     "shell.execute_reply": "2024-05-18T22:04:47.542830Z"
    },
    "papermill": {
     "duration": 0.050601,
     "end_time": "2024-05-18T22:04:47.546595",
     "exception": false,
     "start_time": "2024-05-18T22:04:47.495994",
     "status": "completed"
    },
    "tags": []
   },
   "outputs": [
    {
     "data": {
      "text/html": [
       "<div>\n",
       "<style scoped>\n",
       "    .dataframe tbody tr th:only-of-type {\n",
       "        vertical-align: middle;\n",
       "    }\n",
       "\n",
       "    .dataframe tbody tr th {\n",
       "        vertical-align: top;\n",
       "    }\n",
       "\n",
       "    .dataframe thead th {\n",
       "        text-align: right;\n",
       "    }\n",
       "</style>\n",
       "<table border=\"1\" class=\"dataframe\">\n",
       "  <thead>\n",
       "    <tr style=\"text-align: right;\">\n",
       "      <th></th>\n",
       "      <th>AGE</th>\n",
       "      <th>SEX</th>\n",
       "      <th>BMI</th>\n",
       "      <th>CHILDREN</th>\n",
       "      <th>SMOKER</th>\n",
       "      <th>REGION</th>\n",
       "      <th>CHARGES</th>\n",
       "    </tr>\n",
       "  </thead>\n",
       "  <tbody>\n",
       "    <tr>\n",
       "      <th>0</th>\n",
       "      <td>19</td>\n",
       "      <td>female</td>\n",
       "      <td>27.900</td>\n",
       "      <td>0</td>\n",
       "      <td>yes</td>\n",
       "      <td>southwest</td>\n",
       "      <td>16884.92400</td>\n",
       "    </tr>\n",
       "    <tr>\n",
       "      <th>1</th>\n",
       "      <td>18</td>\n",
       "      <td>male</td>\n",
       "      <td>33.770</td>\n",
       "      <td>1</td>\n",
       "      <td>no</td>\n",
       "      <td>southeast</td>\n",
       "      <td>1725.55230</td>\n",
       "    </tr>\n",
       "    <tr>\n",
       "      <th>2</th>\n",
       "      <td>28</td>\n",
       "      <td>male</td>\n",
       "      <td>33.000</td>\n",
       "      <td>3</td>\n",
       "      <td>no</td>\n",
       "      <td>southeast</td>\n",
       "      <td>4449.46200</td>\n",
       "    </tr>\n",
       "    <tr>\n",
       "      <th>3</th>\n",
       "      <td>33</td>\n",
       "      <td>male</td>\n",
       "      <td>22.705</td>\n",
       "      <td>0</td>\n",
       "      <td>no</td>\n",
       "      <td>northwest</td>\n",
       "      <td>21984.47061</td>\n",
       "    </tr>\n",
       "    <tr>\n",
       "      <th>4</th>\n",
       "      <td>32</td>\n",
       "      <td>male</td>\n",
       "      <td>28.880</td>\n",
       "      <td>0</td>\n",
       "      <td>no</td>\n",
       "      <td>northwest</td>\n",
       "      <td>3866.85520</td>\n",
       "    </tr>\n",
       "    <tr>\n",
       "      <th>...</th>\n",
       "      <td>...</td>\n",
       "      <td>...</td>\n",
       "      <td>...</td>\n",
       "      <td>...</td>\n",
       "      <td>...</td>\n",
       "      <td>...</td>\n",
       "      <td>...</td>\n",
       "    </tr>\n",
       "    <tr>\n",
       "      <th>1333</th>\n",
       "      <td>50</td>\n",
       "      <td>male</td>\n",
       "      <td>30.970</td>\n",
       "      <td>3</td>\n",
       "      <td>no</td>\n",
       "      <td>northwest</td>\n",
       "      <td>10600.54830</td>\n",
       "    </tr>\n",
       "    <tr>\n",
       "      <th>1334</th>\n",
       "      <td>18</td>\n",
       "      <td>female</td>\n",
       "      <td>31.920</td>\n",
       "      <td>0</td>\n",
       "      <td>no</td>\n",
       "      <td>northeast</td>\n",
       "      <td>2205.98080</td>\n",
       "    </tr>\n",
       "    <tr>\n",
       "      <th>1335</th>\n",
       "      <td>18</td>\n",
       "      <td>female</td>\n",
       "      <td>36.850</td>\n",
       "      <td>0</td>\n",
       "      <td>no</td>\n",
       "      <td>southeast</td>\n",
       "      <td>1629.83350</td>\n",
       "    </tr>\n",
       "    <tr>\n",
       "      <th>1336</th>\n",
       "      <td>21</td>\n",
       "      <td>female</td>\n",
       "      <td>25.800</td>\n",
       "      <td>0</td>\n",
       "      <td>no</td>\n",
       "      <td>southwest</td>\n",
       "      <td>2007.94500</td>\n",
       "    </tr>\n",
       "    <tr>\n",
       "      <th>1337</th>\n",
       "      <td>61</td>\n",
       "      <td>female</td>\n",
       "      <td>29.070</td>\n",
       "      <td>0</td>\n",
       "      <td>yes</td>\n",
       "      <td>northwest</td>\n",
       "      <td>29141.36030</td>\n",
       "    </tr>\n",
       "  </tbody>\n",
       "</table>\n",
       "<p>1337 rows × 7 columns</p>\n",
       "</div>"
      ],
      "text/plain": [
       "      AGE     SEX     BMI  CHILDREN SMOKER     REGION      CHARGES\n",
       "0      19  female  27.900         0    yes  southwest  16884.92400\n",
       "1      18    male  33.770         1     no  southeast   1725.55230\n",
       "2      28    male  33.000         3     no  southeast   4449.46200\n",
       "3      33    male  22.705         0     no  northwest  21984.47061\n",
       "4      32    male  28.880         0     no  northwest   3866.85520\n",
       "...   ...     ...     ...       ...    ...        ...          ...\n",
       "1333   50    male  30.970         3     no  northwest  10600.54830\n",
       "1334   18  female  31.920         0     no  northeast   2205.98080\n",
       "1335   18  female  36.850         0     no  southeast   1629.83350\n",
       "1336   21  female  25.800         0     no  southwest   2007.94500\n",
       "1337   61  female  29.070         0    yes  northwest  29141.36030\n",
       "\n",
       "[1337 rows x 7 columns]"
      ]
     },
     "execution_count": 20,
     "metadata": {},
     "output_type": "execute_result"
    }
   ],
   "source": [
    "#Rename columns to capital Form\n",
    "health_insurance2 = health_insurance_copy1.rename(columns = {'age' : 'AGE', \n",
    "                                                    'sex' : 'SEX',\n",
    "                                                    'bmi' : 'BMI',\n",
    "                                                    'children' : 'CHILDREN',\n",
    "                                                    'smoker' : 'SMOKER',\n",
    "                                                     'region' : 'REGION',\n",
    "                                                     'charges' : 'CHARGES',\n",
    "                                                   \n",
    "                                                   })\n",
    "health_insurance2"
   ]
  },
  {
   "cell_type": "code",
   "execution_count": 21,
   "id": "cb0dc3eb",
   "metadata": {
    "execution": {
     "iopub.execute_input": "2024-05-18T22:04:47.597322Z",
     "iopub.status.busy": "2024-05-18T22:04:47.596817Z",
     "iopub.status.idle": "2024-05-18T22:04:47.608187Z",
     "shell.execute_reply": "2024-05-18T22:04:47.606842Z"
    },
    "papermill": {
     "duration": 0.03997,
     "end_time": "2024-05-18T22:04:47.610550",
     "exception": false,
     "start_time": "2024-05-18T22:04:47.570580",
     "status": "completed"
    },
    "tags": []
   },
   "outputs": [
    {
     "data": {
      "text/plain": [
       "False"
      ]
     },
     "execution_count": 21,
     "metadata": {},
     "output_type": "execute_result"
    }
   ],
   "source": [
    "health_insurance_copy1.duplicated().any()"
   ]
  },
  {
   "cell_type": "code",
   "execution_count": 22,
   "id": "340e8489",
   "metadata": {
    "execution": {
     "iopub.execute_input": "2024-05-18T22:04:47.661711Z",
     "iopub.status.busy": "2024-05-18T22:04:47.661243Z",
     "iopub.status.idle": "2024-05-18T22:04:47.675497Z",
     "shell.execute_reply": "2024-05-18T22:04:47.674339Z"
    },
    "papermill": {
     "duration": 0.043463,
     "end_time": "2024-05-18T22:04:47.678048",
     "exception": false,
     "start_time": "2024-05-18T22:04:47.634585",
     "status": "completed"
    },
    "tags": []
   },
   "outputs": [
    {
     "data": {
      "text/html": [
       "<div>\n",
       "<style scoped>\n",
       "    .dataframe tbody tr th:only-of-type {\n",
       "        vertical-align: middle;\n",
       "    }\n",
       "\n",
       "    .dataframe tbody tr th {\n",
       "        vertical-align: top;\n",
       "    }\n",
       "\n",
       "    .dataframe thead th {\n",
       "        text-align: right;\n",
       "    }\n",
       "</style>\n",
       "<table border=\"1\" class=\"dataframe\">\n",
       "  <thead>\n",
       "    <tr style=\"text-align: right;\">\n",
       "      <th></th>\n",
       "      <th>age</th>\n",
       "      <th>sex</th>\n",
       "      <th>bmi</th>\n",
       "      <th>children</th>\n",
       "      <th>smoker</th>\n",
       "      <th>region</th>\n",
       "      <th>charges</th>\n",
       "    </tr>\n",
       "  </thead>\n",
       "  <tbody>\n",
       "  </tbody>\n",
       "</table>\n",
       "</div>"
      ],
      "text/plain": [
       "Empty DataFrame\n",
       "Columns: [age, sex, bmi, children, smoker, region, charges]\n",
       "Index: []"
      ]
     },
     "execution_count": 22,
     "metadata": {},
     "output_type": "execute_result"
    }
   ],
   "source": [
    "health_insurance_copy1[health_insurance_copy1.duplicated()]"
   ]
  },
  {
   "cell_type": "code",
   "execution_count": 23,
   "id": "660afd3b",
   "metadata": {
    "execution": {
     "iopub.execute_input": "2024-05-18T22:04:47.738943Z",
     "iopub.status.busy": "2024-05-18T22:04:47.738319Z",
     "iopub.status.idle": "2024-05-18T22:04:47.746630Z",
     "shell.execute_reply": "2024-05-18T22:04:47.745397Z"
    },
    "papermill": {
     "duration": 0.045513,
     "end_time": "2024-05-18T22:04:47.749319",
     "exception": false,
     "start_time": "2024-05-18T22:04:47.703806",
     "status": "completed"
    },
    "tags": []
   },
   "outputs": [],
   "source": [
    "health_insurance2 = health_insurance_copy1.drop_duplicates()"
   ]
  },
  {
   "cell_type": "code",
   "execution_count": 24,
   "id": "b66a8d74",
   "metadata": {
    "execution": {
     "iopub.execute_input": "2024-05-18T22:04:47.807202Z",
     "iopub.status.busy": "2024-05-18T22:04:47.805765Z",
     "iopub.status.idle": "2024-05-18T22:04:47.815425Z",
     "shell.execute_reply": "2024-05-18T22:04:47.814380Z"
    },
    "papermill": {
     "duration": 0.039364,
     "end_time": "2024-05-18T22:04:47.818012",
     "exception": false,
     "start_time": "2024-05-18T22:04:47.778648",
     "status": "completed"
    },
    "tags": []
   },
   "outputs": [
    {
     "data": {
      "text/plain": [
       "False"
      ]
     },
     "execution_count": 24,
     "metadata": {},
     "output_type": "execute_result"
    }
   ],
   "source": [
    "health_insurance2.duplicated().any()"
   ]
  },
  {
   "cell_type": "code",
   "execution_count": 25,
   "id": "9e9da461",
   "metadata": {
    "execution": {
     "iopub.execute_input": "2024-05-18T22:04:47.875717Z",
     "iopub.status.busy": "2024-05-18T22:04:47.874664Z",
     "iopub.status.idle": "2024-05-18T22:04:47.898803Z",
     "shell.execute_reply": "2024-05-18T22:04:47.896428Z"
    },
    "papermill": {
     "duration": 0.059339,
     "end_time": "2024-05-18T22:04:47.902787",
     "exception": false,
     "start_time": "2024-05-18T22:04:47.843448",
     "status": "completed"
    },
    "tags": []
   },
   "outputs": [
    {
     "data": {
      "text/html": [
       "<div>\n",
       "<style scoped>\n",
       "    .dataframe tbody tr th:only-of-type {\n",
       "        vertical-align: middle;\n",
       "    }\n",
       "\n",
       "    .dataframe tbody tr th {\n",
       "        vertical-align: top;\n",
       "    }\n",
       "\n",
       "    .dataframe thead th {\n",
       "        text-align: right;\n",
       "    }\n",
       "</style>\n",
       "<table border=\"1\" class=\"dataframe\">\n",
       "  <thead>\n",
       "    <tr style=\"text-align: right;\">\n",
       "      <th></th>\n",
       "      <th>AGE</th>\n",
       "      <th>SEX</th>\n",
       "      <th>BMI</th>\n",
       "      <th>CHILDREN</th>\n",
       "      <th>SMOKER</th>\n",
       "      <th>REGION</th>\n",
       "      <th>CHARGES</th>\n",
       "    </tr>\n",
       "  </thead>\n",
       "  <tbody>\n",
       "    <tr>\n",
       "      <th>0</th>\n",
       "      <td>19</td>\n",
       "      <td>female</td>\n",
       "      <td>27.900</td>\n",
       "      <td>0</td>\n",
       "      <td>yes</td>\n",
       "      <td>southwest</td>\n",
       "      <td>16884.92400</td>\n",
       "    </tr>\n",
       "    <tr>\n",
       "      <th>1</th>\n",
       "      <td>18</td>\n",
       "      <td>male</td>\n",
       "      <td>33.770</td>\n",
       "      <td>1</td>\n",
       "      <td>no</td>\n",
       "      <td>southeast</td>\n",
       "      <td>1725.55230</td>\n",
       "    </tr>\n",
       "    <tr>\n",
       "      <th>2</th>\n",
       "      <td>28</td>\n",
       "      <td>male</td>\n",
       "      <td>33.000</td>\n",
       "      <td>3</td>\n",
       "      <td>no</td>\n",
       "      <td>southeast</td>\n",
       "      <td>4449.46200</td>\n",
       "    </tr>\n",
       "    <tr>\n",
       "      <th>3</th>\n",
       "      <td>33</td>\n",
       "      <td>male</td>\n",
       "      <td>22.705</td>\n",
       "      <td>0</td>\n",
       "      <td>no</td>\n",
       "      <td>northwest</td>\n",
       "      <td>21984.47061</td>\n",
       "    </tr>\n",
       "    <tr>\n",
       "      <th>4</th>\n",
       "      <td>32</td>\n",
       "      <td>male</td>\n",
       "      <td>28.880</td>\n",
       "      <td>0</td>\n",
       "      <td>no</td>\n",
       "      <td>northwest</td>\n",
       "      <td>3866.85520</td>\n",
       "    </tr>\n",
       "    <tr>\n",
       "      <th>...</th>\n",
       "      <td>...</td>\n",
       "      <td>...</td>\n",
       "      <td>...</td>\n",
       "      <td>...</td>\n",
       "      <td>...</td>\n",
       "      <td>...</td>\n",
       "      <td>...</td>\n",
       "    </tr>\n",
       "    <tr>\n",
       "      <th>1333</th>\n",
       "      <td>50</td>\n",
       "      <td>male</td>\n",
       "      <td>30.970</td>\n",
       "      <td>3</td>\n",
       "      <td>no</td>\n",
       "      <td>northwest</td>\n",
       "      <td>10600.54830</td>\n",
       "    </tr>\n",
       "    <tr>\n",
       "      <th>1334</th>\n",
       "      <td>18</td>\n",
       "      <td>female</td>\n",
       "      <td>31.920</td>\n",
       "      <td>0</td>\n",
       "      <td>no</td>\n",
       "      <td>northeast</td>\n",
       "      <td>2205.98080</td>\n",
       "    </tr>\n",
       "    <tr>\n",
       "      <th>1335</th>\n",
       "      <td>18</td>\n",
       "      <td>female</td>\n",
       "      <td>36.850</td>\n",
       "      <td>0</td>\n",
       "      <td>no</td>\n",
       "      <td>southeast</td>\n",
       "      <td>1629.83350</td>\n",
       "    </tr>\n",
       "    <tr>\n",
       "      <th>1336</th>\n",
       "      <td>21</td>\n",
       "      <td>female</td>\n",
       "      <td>25.800</td>\n",
       "      <td>0</td>\n",
       "      <td>no</td>\n",
       "      <td>southwest</td>\n",
       "      <td>2007.94500</td>\n",
       "    </tr>\n",
       "    <tr>\n",
       "      <th>1337</th>\n",
       "      <td>61</td>\n",
       "      <td>female</td>\n",
       "      <td>29.070</td>\n",
       "      <td>0</td>\n",
       "      <td>yes</td>\n",
       "      <td>northwest</td>\n",
       "      <td>29141.36030</td>\n",
       "    </tr>\n",
       "  </tbody>\n",
       "</table>\n",
       "<p>1337 rows × 7 columns</p>\n",
       "</div>"
      ],
      "text/plain": [
       "      AGE     SEX     BMI  CHILDREN SMOKER     REGION      CHARGES\n",
       "0      19  female  27.900         0    yes  southwest  16884.92400\n",
       "1      18    male  33.770         1     no  southeast   1725.55230\n",
       "2      28    male  33.000         3     no  southeast   4449.46200\n",
       "3      33    male  22.705         0     no  northwest  21984.47061\n",
       "4      32    male  28.880         0     no  northwest   3866.85520\n",
       "...   ...     ...     ...       ...    ...        ...          ...\n",
       "1333   50    male  30.970         3     no  northwest  10600.54830\n",
       "1334   18  female  31.920         0     no  northeast   2205.98080\n",
       "1335   18  female  36.850         0     no  southeast   1629.83350\n",
       "1336   21  female  25.800         0     no  southwest   2007.94500\n",
       "1337   61  female  29.070         0    yes  northwest  29141.36030\n",
       "\n",
       "[1337 rows x 7 columns]"
      ]
     },
     "execution_count": 25,
     "metadata": {},
     "output_type": "execute_result"
    }
   ],
   "source": [
    "#Rename columns to capital Form\n",
    "health_insurance3 = health_insurance2.rename(columns = {'age' : 'AGE', \n",
    "                                                    'sex' : 'SEX',\n",
    "                                                    'bmi' : 'BMI',\n",
    "                                                    'children' : 'CHILDREN',\n",
    "                                                    'smoker' : 'SMOKER',\n",
    "                                                     'region' : 'REGION',\n",
    "                                                     'charges' : 'CHARGES',\n",
    "                                                   \n",
    "                                                   })\n",
    "health_insurance3"
   ]
  },
  {
   "cell_type": "markdown",
   "id": "a0a4ef05",
   "metadata": {
    "papermill": {
     "duration": 0.037079,
     "end_time": "2024-05-18T22:04:47.975428",
     "exception": false,
     "start_time": "2024-05-18T22:04:47.938349",
     "status": "completed"
    },
    "tags": []
   },
   "source": [
    "**Data Filteration**"
   ]
  },
  {
   "cell_type": "code",
   "execution_count": 26,
   "id": "6d7b5e96",
   "metadata": {
    "execution": {
     "iopub.execute_input": "2024-05-18T22:04:48.042098Z",
     "iopub.status.busy": "2024-05-18T22:04:48.041678Z",
     "iopub.status.idle": "2024-05-18T22:04:48.058989Z",
     "shell.execute_reply": "2024-05-18T22:04:48.057816Z"
    },
    "papermill": {
     "duration": 0.048855,
     "end_time": "2024-05-18T22:04:48.061643",
     "exception": false,
     "start_time": "2024-05-18T22:04:48.012788",
     "status": "completed"
    },
    "tags": []
   },
   "outputs": [
    {
     "data": {
      "text/html": [
       "<div>\n",
       "<style scoped>\n",
       "    .dataframe tbody tr th:only-of-type {\n",
       "        vertical-align: middle;\n",
       "    }\n",
       "\n",
       "    .dataframe tbody tr th {\n",
       "        vertical-align: top;\n",
       "    }\n",
       "\n",
       "    .dataframe thead th {\n",
       "        text-align: right;\n",
       "    }\n",
       "</style>\n",
       "<table border=\"1\" class=\"dataframe\">\n",
       "  <thead>\n",
       "    <tr style=\"text-align: right;\">\n",
       "      <th></th>\n",
       "      <th>AGE</th>\n",
       "      <th>SEX</th>\n",
       "      <th>BMI</th>\n",
       "      <th>CHILDREN</th>\n",
       "      <th>SMOKER</th>\n",
       "      <th>REGION</th>\n",
       "      <th>CHARGES</th>\n",
       "    </tr>\n",
       "  </thead>\n",
       "  <tbody>\n",
       "    <tr>\n",
       "      <th>0</th>\n",
       "      <td>19</td>\n",
       "      <td>female</td>\n",
       "      <td>27.90</td>\n",
       "      <td>0</td>\n",
       "      <td>yes</td>\n",
       "      <td>southwest</td>\n",
       "      <td>16884.92400</td>\n",
       "    </tr>\n",
       "    <tr>\n",
       "      <th>5</th>\n",
       "      <td>31</td>\n",
       "      <td>female</td>\n",
       "      <td>25.74</td>\n",
       "      <td>0</td>\n",
       "      <td>no</td>\n",
       "      <td>southeast</td>\n",
       "      <td>3756.62160</td>\n",
       "    </tr>\n",
       "    <tr>\n",
       "      <th>6</th>\n",
       "      <td>46</td>\n",
       "      <td>female</td>\n",
       "      <td>33.44</td>\n",
       "      <td>1</td>\n",
       "      <td>no</td>\n",
       "      <td>southeast</td>\n",
       "      <td>8240.58960</td>\n",
       "    </tr>\n",
       "    <tr>\n",
       "      <th>7</th>\n",
       "      <td>37</td>\n",
       "      <td>female</td>\n",
       "      <td>27.74</td>\n",
       "      <td>3</td>\n",
       "      <td>no</td>\n",
       "      <td>northwest</td>\n",
       "      <td>7281.50560</td>\n",
       "    </tr>\n",
       "    <tr>\n",
       "      <th>9</th>\n",
       "      <td>60</td>\n",
       "      <td>female</td>\n",
       "      <td>25.84</td>\n",
       "      <td>0</td>\n",
       "      <td>no</td>\n",
       "      <td>northwest</td>\n",
       "      <td>28923.13692</td>\n",
       "    </tr>\n",
       "    <tr>\n",
       "      <th>...</th>\n",
       "      <td>...</td>\n",
       "      <td>...</td>\n",
       "      <td>...</td>\n",
       "      <td>...</td>\n",
       "      <td>...</td>\n",
       "      <td>...</td>\n",
       "      <td>...</td>\n",
       "    </tr>\n",
       "    <tr>\n",
       "      <th>1332</th>\n",
       "      <td>52</td>\n",
       "      <td>female</td>\n",
       "      <td>44.70</td>\n",
       "      <td>3</td>\n",
       "      <td>no</td>\n",
       "      <td>southwest</td>\n",
       "      <td>11411.68500</td>\n",
       "    </tr>\n",
       "    <tr>\n",
       "      <th>1334</th>\n",
       "      <td>18</td>\n",
       "      <td>female</td>\n",
       "      <td>31.92</td>\n",
       "      <td>0</td>\n",
       "      <td>no</td>\n",
       "      <td>northeast</td>\n",
       "      <td>2205.98080</td>\n",
       "    </tr>\n",
       "    <tr>\n",
       "      <th>1335</th>\n",
       "      <td>18</td>\n",
       "      <td>female</td>\n",
       "      <td>36.85</td>\n",
       "      <td>0</td>\n",
       "      <td>no</td>\n",
       "      <td>southeast</td>\n",
       "      <td>1629.83350</td>\n",
       "    </tr>\n",
       "    <tr>\n",
       "      <th>1336</th>\n",
       "      <td>21</td>\n",
       "      <td>female</td>\n",
       "      <td>25.80</td>\n",
       "      <td>0</td>\n",
       "      <td>no</td>\n",
       "      <td>southwest</td>\n",
       "      <td>2007.94500</td>\n",
       "    </tr>\n",
       "    <tr>\n",
       "      <th>1337</th>\n",
       "      <td>61</td>\n",
       "      <td>female</td>\n",
       "      <td>29.07</td>\n",
       "      <td>0</td>\n",
       "      <td>yes</td>\n",
       "      <td>northwest</td>\n",
       "      <td>29141.36030</td>\n",
       "    </tr>\n",
       "  </tbody>\n",
       "</table>\n",
       "<p>662 rows × 7 columns</p>\n",
       "</div>"
      ],
      "text/plain": [
       "      AGE     SEX    BMI  CHILDREN SMOKER     REGION      CHARGES\n",
       "0      19  female  27.90         0    yes  southwest  16884.92400\n",
       "5      31  female  25.74         0     no  southeast   3756.62160\n",
       "6      46  female  33.44         1     no  southeast   8240.58960\n",
       "7      37  female  27.74         3     no  northwest   7281.50560\n",
       "9      60  female  25.84         0     no  northwest  28923.13692\n",
       "...   ...     ...    ...       ...    ...        ...          ...\n",
       "1332   52  female  44.70         3     no  southwest  11411.68500\n",
       "1334   18  female  31.92         0     no  northeast   2205.98080\n",
       "1335   18  female  36.85         0     no  southeast   1629.83350\n",
       "1336   21  female  25.80         0     no  southwest   2007.94500\n",
       "1337   61  female  29.07         0    yes  northwest  29141.36030\n",
       "\n",
       "[662 rows x 7 columns]"
      ]
     },
     "execution_count": 26,
     "metadata": {},
     "output_type": "execute_result"
    }
   ],
   "source": [
    "# Filter out female data\n",
    "female_df = health_insurance3[health_insurance3['SEX']=='female']\n",
    "female_df"
   ]
  },
  {
   "cell_type": "code",
   "execution_count": 27,
   "id": "3699d8f6",
   "metadata": {
    "execution": {
     "iopub.execute_input": "2024-05-18T22:04:48.117373Z",
     "iopub.status.busy": "2024-05-18T22:04:48.116956Z",
     "iopub.status.idle": "2024-05-18T22:04:48.137095Z",
     "shell.execute_reply": "2024-05-18T22:04:48.135578Z"
    },
    "papermill": {
     "duration": 0.051921,
     "end_time": "2024-05-18T22:04:48.140383",
     "exception": false,
     "start_time": "2024-05-18T22:04:48.088462",
     "status": "completed"
    },
    "tags": []
   },
   "outputs": [
    {
     "data": {
      "text/html": [
       "<div>\n",
       "<style scoped>\n",
       "    .dataframe tbody tr th:only-of-type {\n",
       "        vertical-align: middle;\n",
       "    }\n",
       "\n",
       "    .dataframe tbody tr th {\n",
       "        vertical-align: top;\n",
       "    }\n",
       "\n",
       "    .dataframe thead th {\n",
       "        text-align: right;\n",
       "    }\n",
       "</style>\n",
       "<table border=\"1\" class=\"dataframe\">\n",
       "  <thead>\n",
       "    <tr style=\"text-align: right;\">\n",
       "      <th></th>\n",
       "      <th>AGE</th>\n",
       "      <th>SEX</th>\n",
       "      <th>BMI</th>\n",
       "      <th>CHILDREN</th>\n",
       "      <th>SMOKER</th>\n",
       "      <th>REGION</th>\n",
       "      <th>CHARGES</th>\n",
       "    </tr>\n",
       "  </thead>\n",
       "  <tbody>\n",
       "    <tr>\n",
       "      <th>0</th>\n",
       "      <td>19</td>\n",
       "      <td>female</td>\n",
       "      <td>27.9</td>\n",
       "      <td>0</td>\n",
       "      <td>yes</td>\n",
       "      <td>southwest</td>\n",
       "      <td>16884.92400</td>\n",
       "    </tr>\n",
       "    <tr>\n",
       "      <th>21</th>\n",
       "      <td>30</td>\n",
       "      <td>female</td>\n",
       "      <td>32.4</td>\n",
       "      <td>1</td>\n",
       "      <td>no</td>\n",
       "      <td>southwest</td>\n",
       "      <td>4149.73600</td>\n",
       "    </tr>\n",
       "    <tr>\n",
       "      <th>32</th>\n",
       "      <td>19</td>\n",
       "      <td>female</td>\n",
       "      <td>28.6</td>\n",
       "      <td>5</td>\n",
       "      <td>no</td>\n",
       "      <td>southwest</td>\n",
       "      <td>4687.79700</td>\n",
       "    </tr>\n",
       "    <tr>\n",
       "      <th>65</th>\n",
       "      <td>19</td>\n",
       "      <td>female</td>\n",
       "      <td>28.9</td>\n",
       "      <td>0</td>\n",
       "      <td>no</td>\n",
       "      <td>southwest</td>\n",
       "      <td>1743.21400</td>\n",
       "    </tr>\n",
       "    <tr>\n",
       "      <th>66</th>\n",
       "      <td>61</td>\n",
       "      <td>female</td>\n",
       "      <td>39.1</td>\n",
       "      <td>2</td>\n",
       "      <td>no</td>\n",
       "      <td>southwest</td>\n",
       "      <td>14235.07200</td>\n",
       "    </tr>\n",
       "    <tr>\n",
       "      <th>...</th>\n",
       "      <td>...</td>\n",
       "      <td>...</td>\n",
       "      <td>...</td>\n",
       "      <td>...</td>\n",
       "      <td>...</td>\n",
       "      <td>...</td>\n",
       "      <td>...</td>\n",
       "    </tr>\n",
       "    <tr>\n",
       "      <th>1313</th>\n",
       "      <td>19</td>\n",
       "      <td>female</td>\n",
       "      <td>34.7</td>\n",
       "      <td>2</td>\n",
       "      <td>yes</td>\n",
       "      <td>southwest</td>\n",
       "      <td>36397.57600</td>\n",
       "    </tr>\n",
       "    <tr>\n",
       "      <th>1316</th>\n",
       "      <td>19</td>\n",
       "      <td>female</td>\n",
       "      <td>20.6</td>\n",
       "      <td>0</td>\n",
       "      <td>no</td>\n",
       "      <td>southwest</td>\n",
       "      <td>1731.67700</td>\n",
       "    </tr>\n",
       "    <tr>\n",
       "      <th>1331</th>\n",
       "      <td>23</td>\n",
       "      <td>female</td>\n",
       "      <td>33.4</td>\n",
       "      <td>0</td>\n",
       "      <td>no</td>\n",
       "      <td>southwest</td>\n",
       "      <td>10795.93733</td>\n",
       "    </tr>\n",
       "    <tr>\n",
       "      <th>1332</th>\n",
       "      <td>52</td>\n",
       "      <td>female</td>\n",
       "      <td>44.7</td>\n",
       "      <td>3</td>\n",
       "      <td>no</td>\n",
       "      <td>southwest</td>\n",
       "      <td>11411.68500</td>\n",
       "    </tr>\n",
       "    <tr>\n",
       "      <th>1336</th>\n",
       "      <td>21</td>\n",
       "      <td>female</td>\n",
       "      <td>25.8</td>\n",
       "      <td>0</td>\n",
       "      <td>no</td>\n",
       "      <td>southwest</td>\n",
       "      <td>2007.94500</td>\n",
       "    </tr>\n",
       "  </tbody>\n",
       "</table>\n",
       "<p>162 rows × 7 columns</p>\n",
       "</div>"
      ],
      "text/plain": [
       "      AGE     SEX   BMI  CHILDREN SMOKER     REGION      CHARGES\n",
       "0      19  female  27.9         0    yes  southwest  16884.92400\n",
       "21     30  female  32.4         1     no  southwest   4149.73600\n",
       "32     19  female  28.6         5     no  southwest   4687.79700\n",
       "65     19  female  28.9         0     no  southwest   1743.21400\n",
       "66     61  female  39.1         2     no  southwest  14235.07200\n",
       "...   ...     ...   ...       ...    ...        ...          ...\n",
       "1313   19  female  34.7         2    yes  southwest  36397.57600\n",
       "1316   19  female  20.6         0     no  southwest   1731.67700\n",
       "1331   23  female  33.4         0     no  southwest  10795.93733\n",
       "1332   52  female  44.7         3     no  southwest  11411.68500\n",
       "1336   21  female  25.8         0     no  southwest   2007.94500\n",
       "\n",
       "[162 rows x 7 columns]"
      ]
     },
     "execution_count": 27,
     "metadata": {},
     "output_type": "execute_result"
    }
   ],
   "source": [
    "#filter out female from the southwest\n",
    "female_sw = female_df[female_df['REGION']=='southwest']\n",
    "female_sw"
   ]
  },
  {
   "cell_type": "code",
   "execution_count": 28,
   "id": "cab3236a",
   "metadata": {
    "execution": {
     "iopub.execute_input": "2024-05-18T22:04:48.202623Z",
     "iopub.status.busy": "2024-05-18T22:04:48.201680Z",
     "iopub.status.idle": "2024-05-18T22:04:48.212244Z",
     "shell.execute_reply": "2024-05-18T22:04:48.210138Z"
    },
    "papermill": {
     "duration": 0.044165,
     "end_time": "2024-05-18T22:04:48.215850",
     "exception": false,
     "start_time": "2024-05-18T22:04:48.171685",
     "status": "completed"
    },
    "tags": []
   },
   "outputs": [
    {
     "name": "stdout",
     "output_type": "stream",
     "text": [
      "Average charges =  11274.411263641976\n",
      "Max charges =  48824.45\n",
      "Min charges =  1727.785\n"
     ]
    }
   ],
   "source": [
    "# average  insurance charges for females from southwest\n",
    "print(\"Average charges = \", female_sw['CHARGES'].mean())\n",
    "print(\"Max charges = \", female_sw['CHARGES'].max())\n",
    "print(\"Min charges = \", female_sw['CHARGES'].min())"
   ]
  },
  {
   "cell_type": "code",
   "execution_count": 29,
   "id": "edbce585",
   "metadata": {
    "execution": {
     "iopub.execute_input": "2024-05-18T22:04:48.274987Z",
     "iopub.status.busy": "2024-05-18T22:04:48.274104Z",
     "iopub.status.idle": "2024-05-18T22:04:48.292455Z",
     "shell.execute_reply": "2024-05-18T22:04:48.291247Z"
    },
    "papermill": {
     "duration": 0.049295,
     "end_time": "2024-05-18T22:04:48.295154",
     "exception": false,
     "start_time": "2024-05-18T22:04:48.245859",
     "status": "completed"
    },
    "tags": []
   },
   "outputs": [
    {
     "data": {
      "text/html": [
       "<div>\n",
       "<style scoped>\n",
       "    .dataframe tbody tr th:only-of-type {\n",
       "        vertical-align: middle;\n",
       "    }\n",
       "\n",
       "    .dataframe tbody tr th {\n",
       "        vertical-align: top;\n",
       "    }\n",
       "\n",
       "    .dataframe thead th {\n",
       "        text-align: right;\n",
       "    }\n",
       "</style>\n",
       "<table border=\"1\" class=\"dataframe\">\n",
       "  <thead>\n",
       "    <tr style=\"text-align: right;\">\n",
       "      <th></th>\n",
       "      <th>AGE</th>\n",
       "      <th>SEX</th>\n",
       "      <th>BMI</th>\n",
       "      <th>CHILDREN</th>\n",
       "      <th>SMOKER</th>\n",
       "      <th>REGION</th>\n",
       "      <th>CHARGES</th>\n",
       "    </tr>\n",
       "  </thead>\n",
       "  <tbody>\n",
       "    <tr>\n",
       "      <th>23</th>\n",
       "      <td>34</td>\n",
       "      <td>female</td>\n",
       "      <td>31.92</td>\n",
       "      <td>1</td>\n",
       "      <td>yes</td>\n",
       "      <td>northeast</td>\n",
       "      <td>37701.8768</td>\n",
       "    </tr>\n",
       "    <tr>\n",
       "      <th>38</th>\n",
       "      <td>35</td>\n",
       "      <td>male</td>\n",
       "      <td>36.67</td>\n",
       "      <td>1</td>\n",
       "      <td>yes</td>\n",
       "      <td>northeast</td>\n",
       "      <td>39774.2763</td>\n",
       "    </tr>\n",
       "    <tr>\n",
       "      <th>92</th>\n",
       "      <td>59</td>\n",
       "      <td>male</td>\n",
       "      <td>29.83</td>\n",
       "      <td>3</td>\n",
       "      <td>yes</td>\n",
       "      <td>northeast</td>\n",
       "      <td>30184.9367</td>\n",
       "    </tr>\n",
       "    <tr>\n",
       "      <th>98</th>\n",
       "      <td>56</td>\n",
       "      <td>male</td>\n",
       "      <td>19.95</td>\n",
       "      <td>0</td>\n",
       "      <td>yes</td>\n",
       "      <td>northeast</td>\n",
       "      <td>22412.6485</td>\n",
       "    </tr>\n",
       "    <tr>\n",
       "      <th>123</th>\n",
       "      <td>44</td>\n",
       "      <td>male</td>\n",
       "      <td>31.35</td>\n",
       "      <td>1</td>\n",
       "      <td>yes</td>\n",
       "      <td>northeast</td>\n",
       "      <td>39556.4945</td>\n",
       "    </tr>\n",
       "  </tbody>\n",
       "</table>\n",
       "</div>"
      ],
      "text/plain": [
       "     AGE     SEX    BMI  CHILDREN SMOKER     REGION     CHARGES\n",
       "23    34  female  31.92         1    yes  northeast  37701.8768\n",
       "38    35    male  36.67         1    yes  northeast  39774.2763\n",
       "92    59    male  29.83         3    yes  northeast  30184.9367\n",
       "98    56    male  19.95         0    yes  northeast  22412.6485\n",
       "123   44    male  31.35         1    yes  northeast  39556.4945"
      ]
     },
     "execution_count": 29,
     "metadata": {},
     "output_type": "execute_result"
    }
   ],
   "source": [
    "smoker_ne = health_insurance3[(health_insurance3['SMOKER'] == 'yes') & \n",
    "                        (health_insurance3['REGION'] == 'northeast')]\n",
    "smoker_ne.head()"
   ]
  },
  {
   "cell_type": "code",
   "execution_count": 30,
   "id": "ffc856e1",
   "metadata": {
    "execution": {
     "iopub.execute_input": "2024-05-18T22:04:48.351304Z",
     "iopub.status.busy": "2024-05-18T22:04:48.350418Z",
     "iopub.status.idle": "2024-05-18T22:04:48.358886Z",
     "shell.execute_reply": "2024-05-18T22:04:48.357355Z"
    },
    "papermill": {
     "duration": 0.040203,
     "end_time": "2024-05-18T22:04:48.361914",
     "exception": false,
     "start_time": "2024-05-18T22:04:48.321711",
     "status": "completed"
    },
    "tags": []
   },
   "outputs": [
    {
     "name": "stdout",
     "output_type": "stream",
     "text": [
      "Average charges =  29673.536472835825\n",
      "Max charges =  58571.07448\n",
      "Min charges =  12829.4551\n"
     ]
    }
   ],
   "source": [
    "print(\"Average charges = \", smoker_ne['CHARGES'].mean())\n",
    "print(\"Max charges = \", smoker_ne['CHARGES'].max())\n",
    "print(\"Min charges = \", smoker_ne['CHARGES'].min())"
   ]
  },
  {
   "cell_type": "code",
   "execution_count": 31,
   "id": "9817cc88",
   "metadata": {
    "execution": {
     "iopub.execute_input": "2024-05-18T22:04:48.420275Z",
     "iopub.status.busy": "2024-05-18T22:04:48.419841Z",
     "iopub.status.idle": "2024-05-18T22:04:48.435952Z",
     "shell.execute_reply": "2024-05-18T22:04:48.434588Z"
    },
    "papermill": {
     "duration": 0.048533,
     "end_time": "2024-05-18T22:04:48.438460",
     "exception": false,
     "start_time": "2024-05-18T22:04:48.389927",
     "status": "completed"
    },
    "tags": []
   },
   "outputs": [
    {
     "data": {
      "text/html": [
       "<div>\n",
       "<style scoped>\n",
       "    .dataframe tbody tr th:only-of-type {\n",
       "        vertical-align: middle;\n",
       "    }\n",
       "\n",
       "    .dataframe tbody tr th {\n",
       "        vertical-align: top;\n",
       "    }\n",
       "\n",
       "    .dataframe thead th {\n",
       "        text-align: right;\n",
       "    }\n",
       "</style>\n",
       "<table border=\"1\" class=\"dataframe\">\n",
       "  <thead>\n",
       "    <tr style=\"text-align: right;\">\n",
       "      <th></th>\n",
       "      <th>AGE</th>\n",
       "      <th>SEX</th>\n",
       "      <th>BMI</th>\n",
       "      <th>CHILDREN</th>\n",
       "      <th>SMOKER</th>\n",
       "      <th>REGION</th>\n",
       "      <th>CHARGES</th>\n",
       "    </tr>\n",
       "  </thead>\n",
       "  <tbody>\n",
       "    <tr>\n",
       "      <th>0</th>\n",
       "      <td>19</td>\n",
       "      <td>female</td>\n",
       "      <td>27.900</td>\n",
       "      <td>0</td>\n",
       "      <td>yes</td>\n",
       "      <td>southwest</td>\n",
       "      <td>16884.92400</td>\n",
       "    </tr>\n",
       "    <tr>\n",
       "      <th>1</th>\n",
       "      <td>18</td>\n",
       "      <td>male</td>\n",
       "      <td>33.770</td>\n",
       "      <td>1</td>\n",
       "      <td>no</td>\n",
       "      <td>southeast</td>\n",
       "      <td>1725.55230</td>\n",
       "    </tr>\n",
       "    <tr>\n",
       "      <th>2</th>\n",
       "      <td>28</td>\n",
       "      <td>male</td>\n",
       "      <td>33.000</td>\n",
       "      <td>3</td>\n",
       "      <td>no</td>\n",
       "      <td>southeast</td>\n",
       "      <td>4449.46200</td>\n",
       "    </tr>\n",
       "    <tr>\n",
       "      <th>3</th>\n",
       "      <td>33</td>\n",
       "      <td>male</td>\n",
       "      <td>22.705</td>\n",
       "      <td>0</td>\n",
       "      <td>no</td>\n",
       "      <td>northwest</td>\n",
       "      <td>21984.47061</td>\n",
       "    </tr>\n",
       "    <tr>\n",
       "      <th>4</th>\n",
       "      <td>32</td>\n",
       "      <td>male</td>\n",
       "      <td>28.880</td>\n",
       "      <td>0</td>\n",
       "      <td>no</td>\n",
       "      <td>northwest</td>\n",
       "      <td>3866.85520</td>\n",
       "    </tr>\n",
       "  </tbody>\n",
       "</table>\n",
       "</div>"
      ],
      "text/plain": [
       "   AGE     SEX     BMI  CHILDREN SMOKER     REGION      CHARGES\n",
       "0   19  female  27.900         0    yes  southwest  16884.92400\n",
       "1   18    male  33.770         1     no  southeast   1725.55230\n",
       "2   28    male  33.000         3     no  southeast   4449.46200\n",
       "3   33    male  22.705         0     no  northwest  21984.47061\n",
       "4   32    male  28.880         0     no  northwest   3866.85520"
      ]
     },
     "execution_count": 31,
     "metadata": {},
     "output_type": "execute_result"
    }
   ],
   "source": [
    "health_insurance3.head()"
   ]
  },
  {
   "cell_type": "code",
   "execution_count": 32,
   "id": "0c31dfe0",
   "metadata": {
    "execution": {
     "iopub.execute_input": "2024-05-18T22:04:48.497080Z",
     "iopub.status.busy": "2024-05-18T22:04:48.495548Z",
     "iopub.status.idle": "2024-05-18T22:04:48.502398Z",
     "shell.execute_reply": "2024-05-18T22:04:48.501516Z"
    },
    "papermill": {
     "duration": 0.038307,
     "end_time": "2024-05-18T22:04:48.504856",
     "exception": false,
     "start_time": "2024-05-18T22:04:48.466549",
     "status": "completed"
    },
    "tags": []
   },
   "outputs": [],
   "source": [
    "def get_occupation(AGE):\n",
    "    if AGE >=18 and AGE <=30:\n",
    "        return 'student'\n",
    "    elif AGE >30 and AGE <=55:\n",
    "        return 'working professional'\n",
    "    else:\n",
    "        return 'Retired'"
   ]
  },
  {
   "cell_type": "code",
   "execution_count": 33,
   "id": "33718d24",
   "metadata": {
    "execution": {
     "iopub.execute_input": "2024-05-18T22:04:48.564154Z",
     "iopub.status.busy": "2024-05-18T22:04:48.563667Z",
     "iopub.status.idle": "2024-05-18T22:04:48.573081Z",
     "shell.execute_reply": "2024-05-18T22:04:48.571525Z"
    },
    "papermill": {
     "duration": 0.041164,
     "end_time": "2024-05-18T22:04:48.575456",
     "exception": false,
     "start_time": "2024-05-18T22:04:48.534292",
     "status": "completed"
    },
    "tags": []
   },
   "outputs": [],
   "source": [
    "health_insurance3['occupation'] = health_insurance3['AGE'].apply(lambda x: get_occupation(x))"
   ]
  },
  {
   "cell_type": "code",
   "execution_count": 34,
   "id": "2b7c0e1a",
   "metadata": {
    "execution": {
     "iopub.execute_input": "2024-05-18T22:04:48.634282Z",
     "iopub.status.busy": "2024-05-18T22:04:48.633618Z",
     "iopub.status.idle": "2024-05-18T22:04:48.652466Z",
     "shell.execute_reply": "2024-05-18T22:04:48.651636Z"
    },
    "papermill": {
     "duration": 0.050992,
     "end_time": "2024-05-18T22:04:48.655311",
     "exception": false,
     "start_time": "2024-05-18T22:04:48.604319",
     "status": "completed"
    },
    "tags": []
   },
   "outputs": [
    {
     "data": {
      "text/html": [
       "<div>\n",
       "<style scoped>\n",
       "    .dataframe tbody tr th:only-of-type {\n",
       "        vertical-align: middle;\n",
       "    }\n",
       "\n",
       "    .dataframe tbody tr th {\n",
       "        vertical-align: top;\n",
       "    }\n",
       "\n",
       "    .dataframe thead th {\n",
       "        text-align: right;\n",
       "    }\n",
       "</style>\n",
       "<table border=\"1\" class=\"dataframe\">\n",
       "  <thead>\n",
       "    <tr style=\"text-align: right;\">\n",
       "      <th></th>\n",
       "      <th>AGE</th>\n",
       "      <th>SEX</th>\n",
       "      <th>BMI</th>\n",
       "      <th>CHILDREN</th>\n",
       "      <th>SMOKER</th>\n",
       "      <th>REGION</th>\n",
       "      <th>CHARGES</th>\n",
       "      <th>occupation</th>\n",
       "    </tr>\n",
       "  </thead>\n",
       "  <tbody>\n",
       "    <tr>\n",
       "      <th>0</th>\n",
       "      <td>19</td>\n",
       "      <td>female</td>\n",
       "      <td>27.900</td>\n",
       "      <td>0</td>\n",
       "      <td>yes</td>\n",
       "      <td>southwest</td>\n",
       "      <td>16884.92400</td>\n",
       "      <td>student</td>\n",
       "    </tr>\n",
       "    <tr>\n",
       "      <th>1</th>\n",
       "      <td>18</td>\n",
       "      <td>male</td>\n",
       "      <td>33.770</td>\n",
       "      <td>1</td>\n",
       "      <td>no</td>\n",
       "      <td>southeast</td>\n",
       "      <td>1725.55230</td>\n",
       "      <td>student</td>\n",
       "    </tr>\n",
       "    <tr>\n",
       "      <th>2</th>\n",
       "      <td>28</td>\n",
       "      <td>male</td>\n",
       "      <td>33.000</td>\n",
       "      <td>3</td>\n",
       "      <td>no</td>\n",
       "      <td>southeast</td>\n",
       "      <td>4449.46200</td>\n",
       "      <td>student</td>\n",
       "    </tr>\n",
       "    <tr>\n",
       "      <th>3</th>\n",
       "      <td>33</td>\n",
       "      <td>male</td>\n",
       "      <td>22.705</td>\n",
       "      <td>0</td>\n",
       "      <td>no</td>\n",
       "      <td>northwest</td>\n",
       "      <td>21984.47061</td>\n",
       "      <td>working professional</td>\n",
       "    </tr>\n",
       "    <tr>\n",
       "      <th>4</th>\n",
       "      <td>32</td>\n",
       "      <td>male</td>\n",
       "      <td>28.880</td>\n",
       "      <td>0</td>\n",
       "      <td>no</td>\n",
       "      <td>northwest</td>\n",
       "      <td>3866.85520</td>\n",
       "      <td>working professional</td>\n",
       "    </tr>\n",
       "    <tr>\n",
       "      <th>...</th>\n",
       "      <td>...</td>\n",
       "      <td>...</td>\n",
       "      <td>...</td>\n",
       "      <td>...</td>\n",
       "      <td>...</td>\n",
       "      <td>...</td>\n",
       "      <td>...</td>\n",
       "      <td>...</td>\n",
       "    </tr>\n",
       "    <tr>\n",
       "      <th>1333</th>\n",
       "      <td>50</td>\n",
       "      <td>male</td>\n",
       "      <td>30.970</td>\n",
       "      <td>3</td>\n",
       "      <td>no</td>\n",
       "      <td>northwest</td>\n",
       "      <td>10600.54830</td>\n",
       "      <td>working professional</td>\n",
       "    </tr>\n",
       "    <tr>\n",
       "      <th>1334</th>\n",
       "      <td>18</td>\n",
       "      <td>female</td>\n",
       "      <td>31.920</td>\n",
       "      <td>0</td>\n",
       "      <td>no</td>\n",
       "      <td>northeast</td>\n",
       "      <td>2205.98080</td>\n",
       "      <td>student</td>\n",
       "    </tr>\n",
       "    <tr>\n",
       "      <th>1335</th>\n",
       "      <td>18</td>\n",
       "      <td>female</td>\n",
       "      <td>36.850</td>\n",
       "      <td>0</td>\n",
       "      <td>no</td>\n",
       "      <td>southeast</td>\n",
       "      <td>1629.83350</td>\n",
       "      <td>student</td>\n",
       "    </tr>\n",
       "    <tr>\n",
       "      <th>1336</th>\n",
       "      <td>21</td>\n",
       "      <td>female</td>\n",
       "      <td>25.800</td>\n",
       "      <td>0</td>\n",
       "      <td>no</td>\n",
       "      <td>southwest</td>\n",
       "      <td>2007.94500</td>\n",
       "      <td>student</td>\n",
       "    </tr>\n",
       "    <tr>\n",
       "      <th>1337</th>\n",
       "      <td>61</td>\n",
       "      <td>female</td>\n",
       "      <td>29.070</td>\n",
       "      <td>0</td>\n",
       "      <td>yes</td>\n",
       "      <td>northwest</td>\n",
       "      <td>29141.36030</td>\n",
       "      <td>Retired</td>\n",
       "    </tr>\n",
       "  </tbody>\n",
       "</table>\n",
       "<p>1337 rows × 8 columns</p>\n",
       "</div>"
      ],
      "text/plain": [
       "      AGE     SEX     BMI  CHILDREN SMOKER     REGION      CHARGES  \\\n",
       "0      19  female  27.900         0    yes  southwest  16884.92400   \n",
       "1      18    male  33.770         1     no  southeast   1725.55230   \n",
       "2      28    male  33.000         3     no  southeast   4449.46200   \n",
       "3      33    male  22.705         0     no  northwest  21984.47061   \n",
       "4      32    male  28.880         0     no  northwest   3866.85520   \n",
       "...   ...     ...     ...       ...    ...        ...          ...   \n",
       "1333   50    male  30.970         3     no  northwest  10600.54830   \n",
       "1334   18  female  31.920         0     no  northeast   2205.98080   \n",
       "1335   18  female  36.850         0     no  southeast   1629.83350   \n",
       "1336   21  female  25.800         0     no  southwest   2007.94500   \n",
       "1337   61  female  29.070         0    yes  northwest  29141.36030   \n",
       "\n",
       "                occupation  \n",
       "0                  student  \n",
       "1                  student  \n",
       "2                  student  \n",
       "3     working professional  \n",
       "4     working professional  \n",
       "...                    ...  \n",
       "1333  working professional  \n",
       "1334               student  \n",
       "1335               student  \n",
       "1336               student  \n",
       "1337               Retired  \n",
       "\n",
       "[1337 rows x 8 columns]"
      ]
     },
     "execution_count": 34,
     "metadata": {},
     "output_type": "execute_result"
    }
   ],
   "source": [
    "health_insurance3"
   ]
  },
  {
   "cell_type": "code",
   "execution_count": 35,
   "id": "6407a84f",
   "metadata": {
    "execution": {
     "iopub.execute_input": "2024-05-18T22:04:48.713875Z",
     "iopub.status.busy": "2024-05-18T22:04:48.713281Z",
     "iopub.status.idle": "2024-05-18T22:04:48.718941Z",
     "shell.execute_reply": "2024-05-18T22:04:48.717614Z"
    },
    "papermill": {
     "duration": 0.038749,
     "end_time": "2024-05-18T22:04:48.721769",
     "exception": false,
     "start_time": "2024-05-18T22:04:48.683020",
     "status": "completed"
    },
    "tags": []
   },
   "outputs": [],
   "source": [
    "def get_body_type(BMI):\n",
    "    if BMI > 18 and BMI <=25:\n",
    "        return 'underweight'\n",
    "    elif BMI >25 and BMI <=35:\n",
    "        return 'Normalweight'\n",
    "    else:\n",
    "        return 'Overweight'\n",
    "    "
   ]
  },
  {
   "cell_type": "code",
   "execution_count": 36,
   "id": "ef5a4ba2",
   "metadata": {
    "execution": {
     "iopub.execute_input": "2024-05-18T22:04:48.781406Z",
     "iopub.status.busy": "2024-05-18T22:04:48.780986Z",
     "iopub.status.idle": "2024-05-18T22:04:48.788709Z",
     "shell.execute_reply": "2024-05-18T22:04:48.787144Z"
    },
    "papermill": {
     "duration": 0.040222,
     "end_time": "2024-05-18T22:04:48.791544",
     "exception": false,
     "start_time": "2024-05-18T22:04:48.751322",
     "status": "completed"
    },
    "tags": []
   },
   "outputs": [],
   "source": [
    "health_insurance3['Body_type']= health_insurance3['BMI'].apply(lambda x : get_body_type(x))"
   ]
  },
  {
   "cell_type": "code",
   "execution_count": 37,
   "id": "049bd003",
   "metadata": {
    "execution": {
     "iopub.execute_input": "2024-05-18T22:04:48.849530Z",
     "iopub.status.busy": "2024-05-18T22:04:48.849076Z",
     "iopub.status.idle": "2024-05-18T22:04:48.869438Z",
     "shell.execute_reply": "2024-05-18T22:04:48.868498Z"
    },
    "papermill": {
     "duration": 0.052416,
     "end_time": "2024-05-18T22:04:48.872283",
     "exception": false,
     "start_time": "2024-05-18T22:04:48.819867",
     "status": "completed"
    },
    "tags": []
   },
   "outputs": [
    {
     "data": {
      "text/html": [
       "<div>\n",
       "<style scoped>\n",
       "    .dataframe tbody tr th:only-of-type {\n",
       "        vertical-align: middle;\n",
       "    }\n",
       "\n",
       "    .dataframe tbody tr th {\n",
       "        vertical-align: top;\n",
       "    }\n",
       "\n",
       "    .dataframe thead th {\n",
       "        text-align: right;\n",
       "    }\n",
       "</style>\n",
       "<table border=\"1\" class=\"dataframe\">\n",
       "  <thead>\n",
       "    <tr style=\"text-align: right;\">\n",
       "      <th></th>\n",
       "      <th>AGE</th>\n",
       "      <th>SEX</th>\n",
       "      <th>BMI</th>\n",
       "      <th>CHILDREN</th>\n",
       "      <th>SMOKER</th>\n",
       "      <th>REGION</th>\n",
       "      <th>CHARGES</th>\n",
       "      <th>occupation</th>\n",
       "      <th>Body_type</th>\n",
       "    </tr>\n",
       "  </thead>\n",
       "  <tbody>\n",
       "    <tr>\n",
       "      <th>0</th>\n",
       "      <td>19</td>\n",
       "      <td>female</td>\n",
       "      <td>27.900</td>\n",
       "      <td>0</td>\n",
       "      <td>yes</td>\n",
       "      <td>southwest</td>\n",
       "      <td>16884.92400</td>\n",
       "      <td>student</td>\n",
       "      <td>Normalweight</td>\n",
       "    </tr>\n",
       "    <tr>\n",
       "      <th>1</th>\n",
       "      <td>18</td>\n",
       "      <td>male</td>\n",
       "      <td>33.770</td>\n",
       "      <td>1</td>\n",
       "      <td>no</td>\n",
       "      <td>southeast</td>\n",
       "      <td>1725.55230</td>\n",
       "      <td>student</td>\n",
       "      <td>Normalweight</td>\n",
       "    </tr>\n",
       "    <tr>\n",
       "      <th>2</th>\n",
       "      <td>28</td>\n",
       "      <td>male</td>\n",
       "      <td>33.000</td>\n",
       "      <td>3</td>\n",
       "      <td>no</td>\n",
       "      <td>southeast</td>\n",
       "      <td>4449.46200</td>\n",
       "      <td>student</td>\n",
       "      <td>Normalweight</td>\n",
       "    </tr>\n",
       "    <tr>\n",
       "      <th>3</th>\n",
       "      <td>33</td>\n",
       "      <td>male</td>\n",
       "      <td>22.705</td>\n",
       "      <td>0</td>\n",
       "      <td>no</td>\n",
       "      <td>northwest</td>\n",
       "      <td>21984.47061</td>\n",
       "      <td>working professional</td>\n",
       "      <td>underweight</td>\n",
       "    </tr>\n",
       "    <tr>\n",
       "      <th>4</th>\n",
       "      <td>32</td>\n",
       "      <td>male</td>\n",
       "      <td>28.880</td>\n",
       "      <td>0</td>\n",
       "      <td>no</td>\n",
       "      <td>northwest</td>\n",
       "      <td>3866.85520</td>\n",
       "      <td>working professional</td>\n",
       "      <td>Normalweight</td>\n",
       "    </tr>\n",
       "    <tr>\n",
       "      <th>...</th>\n",
       "      <td>...</td>\n",
       "      <td>...</td>\n",
       "      <td>...</td>\n",
       "      <td>...</td>\n",
       "      <td>...</td>\n",
       "      <td>...</td>\n",
       "      <td>...</td>\n",
       "      <td>...</td>\n",
       "      <td>...</td>\n",
       "    </tr>\n",
       "    <tr>\n",
       "      <th>1333</th>\n",
       "      <td>50</td>\n",
       "      <td>male</td>\n",
       "      <td>30.970</td>\n",
       "      <td>3</td>\n",
       "      <td>no</td>\n",
       "      <td>northwest</td>\n",
       "      <td>10600.54830</td>\n",
       "      <td>working professional</td>\n",
       "      <td>Normalweight</td>\n",
       "    </tr>\n",
       "    <tr>\n",
       "      <th>1334</th>\n",
       "      <td>18</td>\n",
       "      <td>female</td>\n",
       "      <td>31.920</td>\n",
       "      <td>0</td>\n",
       "      <td>no</td>\n",
       "      <td>northeast</td>\n",
       "      <td>2205.98080</td>\n",
       "      <td>student</td>\n",
       "      <td>Normalweight</td>\n",
       "    </tr>\n",
       "    <tr>\n",
       "      <th>1335</th>\n",
       "      <td>18</td>\n",
       "      <td>female</td>\n",
       "      <td>36.850</td>\n",
       "      <td>0</td>\n",
       "      <td>no</td>\n",
       "      <td>southeast</td>\n",
       "      <td>1629.83350</td>\n",
       "      <td>student</td>\n",
       "      <td>Overweight</td>\n",
       "    </tr>\n",
       "    <tr>\n",
       "      <th>1336</th>\n",
       "      <td>21</td>\n",
       "      <td>female</td>\n",
       "      <td>25.800</td>\n",
       "      <td>0</td>\n",
       "      <td>no</td>\n",
       "      <td>southwest</td>\n",
       "      <td>2007.94500</td>\n",
       "      <td>student</td>\n",
       "      <td>Normalweight</td>\n",
       "    </tr>\n",
       "    <tr>\n",
       "      <th>1337</th>\n",
       "      <td>61</td>\n",
       "      <td>female</td>\n",
       "      <td>29.070</td>\n",
       "      <td>0</td>\n",
       "      <td>yes</td>\n",
       "      <td>northwest</td>\n",
       "      <td>29141.36030</td>\n",
       "      <td>Retired</td>\n",
       "      <td>Normalweight</td>\n",
       "    </tr>\n",
       "  </tbody>\n",
       "</table>\n",
       "<p>1337 rows × 9 columns</p>\n",
       "</div>"
      ],
      "text/plain": [
       "      AGE     SEX     BMI  CHILDREN SMOKER     REGION      CHARGES  \\\n",
       "0      19  female  27.900         0    yes  southwest  16884.92400   \n",
       "1      18    male  33.770         1     no  southeast   1725.55230   \n",
       "2      28    male  33.000         3     no  southeast   4449.46200   \n",
       "3      33    male  22.705         0     no  northwest  21984.47061   \n",
       "4      32    male  28.880         0     no  northwest   3866.85520   \n",
       "...   ...     ...     ...       ...    ...        ...          ...   \n",
       "1333   50    male  30.970         3     no  northwest  10600.54830   \n",
       "1334   18  female  31.920         0     no  northeast   2205.98080   \n",
       "1335   18  female  36.850         0     no  southeast   1629.83350   \n",
       "1336   21  female  25.800         0     no  southwest   2007.94500   \n",
       "1337   61  female  29.070         0    yes  northwest  29141.36030   \n",
       "\n",
       "                occupation     Body_type  \n",
       "0                  student  Normalweight  \n",
       "1                  student  Normalweight  \n",
       "2                  student  Normalweight  \n",
       "3     working professional   underweight  \n",
       "4     working professional  Normalweight  \n",
       "...                    ...           ...  \n",
       "1333  working professional  Normalweight  \n",
       "1334               student  Normalweight  \n",
       "1335               student    Overweight  \n",
       "1336               student  Normalweight  \n",
       "1337               Retired  Normalweight  \n",
       "\n",
       "[1337 rows x 9 columns]"
      ]
     },
     "execution_count": 37,
     "metadata": {},
     "output_type": "execute_result"
    }
   ],
   "source": [
    "health_insurance3"
   ]
  },
  {
   "cell_type": "code",
   "execution_count": 38,
   "id": "3a2e7d93",
   "metadata": {
    "execution": {
     "iopub.execute_input": "2024-05-18T22:04:48.929993Z",
     "iopub.status.busy": "2024-05-18T22:04:48.929543Z",
     "iopub.status.idle": "2024-05-18T22:04:48.936127Z",
     "shell.execute_reply": "2024-05-18T22:04:48.934708Z"
    },
    "papermill": {
     "duration": 0.03863,
     "end_time": "2024-05-18T22:04:48.938601",
     "exception": false,
     "start_time": "2024-05-18T22:04:48.899971",
     "status": "completed"
    },
    "tags": []
   },
   "outputs": [],
   "source": [
    "health_insurance3['Data_info']= 'Health insurance data'"
   ]
  },
  {
   "cell_type": "code",
   "execution_count": 39,
   "id": "21ea4f96",
   "metadata": {
    "execution": {
     "iopub.execute_input": "2024-05-18T22:04:48.996603Z",
     "iopub.status.busy": "2024-05-18T22:04:48.996159Z",
     "iopub.status.idle": "2024-05-18T22:04:49.021830Z",
     "shell.execute_reply": "2024-05-18T22:04:49.020413Z"
    },
    "papermill": {
     "duration": 0.058231,
     "end_time": "2024-05-18T22:04:49.024435",
     "exception": false,
     "start_time": "2024-05-18T22:04:48.966204",
     "status": "completed"
    },
    "tags": []
   },
   "outputs": [
    {
     "data": {
      "text/html": [
       "<div>\n",
       "<style scoped>\n",
       "    .dataframe tbody tr th:only-of-type {\n",
       "        vertical-align: middle;\n",
       "    }\n",
       "\n",
       "    .dataframe tbody tr th {\n",
       "        vertical-align: top;\n",
       "    }\n",
       "\n",
       "    .dataframe thead th {\n",
       "        text-align: right;\n",
       "    }\n",
       "</style>\n",
       "<table border=\"1\" class=\"dataframe\">\n",
       "  <thead>\n",
       "    <tr style=\"text-align: right;\">\n",
       "      <th></th>\n",
       "      <th>AGE</th>\n",
       "      <th>SEX</th>\n",
       "      <th>BMI</th>\n",
       "      <th>CHILDREN</th>\n",
       "      <th>SMOKER</th>\n",
       "      <th>REGION</th>\n",
       "      <th>CHARGES</th>\n",
       "      <th>occupation</th>\n",
       "      <th>Body_type</th>\n",
       "      <th>Data_info</th>\n",
       "    </tr>\n",
       "  </thead>\n",
       "  <tbody>\n",
       "    <tr>\n",
       "      <th>0</th>\n",
       "      <td>19</td>\n",
       "      <td>female</td>\n",
       "      <td>27.900</td>\n",
       "      <td>0</td>\n",
       "      <td>yes</td>\n",
       "      <td>southwest</td>\n",
       "      <td>16884.92400</td>\n",
       "      <td>student</td>\n",
       "      <td>Normalweight</td>\n",
       "      <td>Health insurance data</td>\n",
       "    </tr>\n",
       "    <tr>\n",
       "      <th>1</th>\n",
       "      <td>18</td>\n",
       "      <td>male</td>\n",
       "      <td>33.770</td>\n",
       "      <td>1</td>\n",
       "      <td>no</td>\n",
       "      <td>southeast</td>\n",
       "      <td>1725.55230</td>\n",
       "      <td>student</td>\n",
       "      <td>Normalweight</td>\n",
       "      <td>Health insurance data</td>\n",
       "    </tr>\n",
       "    <tr>\n",
       "      <th>2</th>\n",
       "      <td>28</td>\n",
       "      <td>male</td>\n",
       "      <td>33.000</td>\n",
       "      <td>3</td>\n",
       "      <td>no</td>\n",
       "      <td>southeast</td>\n",
       "      <td>4449.46200</td>\n",
       "      <td>student</td>\n",
       "      <td>Normalweight</td>\n",
       "      <td>Health insurance data</td>\n",
       "    </tr>\n",
       "    <tr>\n",
       "      <th>3</th>\n",
       "      <td>33</td>\n",
       "      <td>male</td>\n",
       "      <td>22.705</td>\n",
       "      <td>0</td>\n",
       "      <td>no</td>\n",
       "      <td>northwest</td>\n",
       "      <td>21984.47061</td>\n",
       "      <td>working professional</td>\n",
       "      <td>underweight</td>\n",
       "      <td>Health insurance data</td>\n",
       "    </tr>\n",
       "    <tr>\n",
       "      <th>4</th>\n",
       "      <td>32</td>\n",
       "      <td>male</td>\n",
       "      <td>28.880</td>\n",
       "      <td>0</td>\n",
       "      <td>no</td>\n",
       "      <td>northwest</td>\n",
       "      <td>3866.85520</td>\n",
       "      <td>working professional</td>\n",
       "      <td>Normalweight</td>\n",
       "      <td>Health insurance data</td>\n",
       "    </tr>\n",
       "    <tr>\n",
       "      <th>...</th>\n",
       "      <td>...</td>\n",
       "      <td>...</td>\n",
       "      <td>...</td>\n",
       "      <td>...</td>\n",
       "      <td>...</td>\n",
       "      <td>...</td>\n",
       "      <td>...</td>\n",
       "      <td>...</td>\n",
       "      <td>...</td>\n",
       "      <td>...</td>\n",
       "    </tr>\n",
       "    <tr>\n",
       "      <th>1333</th>\n",
       "      <td>50</td>\n",
       "      <td>male</td>\n",
       "      <td>30.970</td>\n",
       "      <td>3</td>\n",
       "      <td>no</td>\n",
       "      <td>northwest</td>\n",
       "      <td>10600.54830</td>\n",
       "      <td>working professional</td>\n",
       "      <td>Normalweight</td>\n",
       "      <td>Health insurance data</td>\n",
       "    </tr>\n",
       "    <tr>\n",
       "      <th>1334</th>\n",
       "      <td>18</td>\n",
       "      <td>female</td>\n",
       "      <td>31.920</td>\n",
       "      <td>0</td>\n",
       "      <td>no</td>\n",
       "      <td>northeast</td>\n",
       "      <td>2205.98080</td>\n",
       "      <td>student</td>\n",
       "      <td>Normalweight</td>\n",
       "      <td>Health insurance data</td>\n",
       "    </tr>\n",
       "    <tr>\n",
       "      <th>1335</th>\n",
       "      <td>18</td>\n",
       "      <td>female</td>\n",
       "      <td>36.850</td>\n",
       "      <td>0</td>\n",
       "      <td>no</td>\n",
       "      <td>southeast</td>\n",
       "      <td>1629.83350</td>\n",
       "      <td>student</td>\n",
       "      <td>Overweight</td>\n",
       "      <td>Health insurance data</td>\n",
       "    </tr>\n",
       "    <tr>\n",
       "      <th>1336</th>\n",
       "      <td>21</td>\n",
       "      <td>female</td>\n",
       "      <td>25.800</td>\n",
       "      <td>0</td>\n",
       "      <td>no</td>\n",
       "      <td>southwest</td>\n",
       "      <td>2007.94500</td>\n",
       "      <td>student</td>\n",
       "      <td>Normalweight</td>\n",
       "      <td>Health insurance data</td>\n",
       "    </tr>\n",
       "    <tr>\n",
       "      <th>1337</th>\n",
       "      <td>61</td>\n",
       "      <td>female</td>\n",
       "      <td>29.070</td>\n",
       "      <td>0</td>\n",
       "      <td>yes</td>\n",
       "      <td>northwest</td>\n",
       "      <td>29141.36030</td>\n",
       "      <td>Retired</td>\n",
       "      <td>Normalweight</td>\n",
       "      <td>Health insurance data</td>\n",
       "    </tr>\n",
       "  </tbody>\n",
       "</table>\n",
       "<p>1337 rows × 10 columns</p>\n",
       "</div>"
      ],
      "text/plain": [
       "      AGE     SEX     BMI  CHILDREN SMOKER     REGION      CHARGES  \\\n",
       "0      19  female  27.900         0    yes  southwest  16884.92400   \n",
       "1      18    male  33.770         1     no  southeast   1725.55230   \n",
       "2      28    male  33.000         3     no  southeast   4449.46200   \n",
       "3      33    male  22.705         0     no  northwest  21984.47061   \n",
       "4      32    male  28.880         0     no  northwest   3866.85520   \n",
       "...   ...     ...     ...       ...    ...        ...          ...   \n",
       "1333   50    male  30.970         3     no  northwest  10600.54830   \n",
       "1334   18  female  31.920         0     no  northeast   2205.98080   \n",
       "1335   18  female  36.850         0     no  southeast   1629.83350   \n",
       "1336   21  female  25.800         0     no  southwest   2007.94500   \n",
       "1337   61  female  29.070         0    yes  northwest  29141.36030   \n",
       "\n",
       "                occupation     Body_type              Data_info  \n",
       "0                  student  Normalweight  Health insurance data  \n",
       "1                  student  Normalweight  Health insurance data  \n",
       "2                  student  Normalweight  Health insurance data  \n",
       "3     working professional   underweight  Health insurance data  \n",
       "4     working professional  Normalweight  Health insurance data  \n",
       "...                    ...           ...                    ...  \n",
       "1333  working professional  Normalweight  Health insurance data  \n",
       "1334               student  Normalweight  Health insurance data  \n",
       "1335               student    Overweight  Health insurance data  \n",
       "1336               student  Normalweight  Health insurance data  \n",
       "1337               Retired  Normalweight  Health insurance data  \n",
       "\n",
       "[1337 rows x 10 columns]"
      ]
     },
     "execution_count": 39,
     "metadata": {},
     "output_type": "execute_result"
    }
   ],
   "source": [
    "health_insurance3"
   ]
  },
  {
   "cell_type": "code",
   "execution_count": 40,
   "id": "81707fcf",
   "metadata": {
    "execution": {
     "iopub.execute_input": "2024-05-18T22:04:49.083022Z",
     "iopub.status.busy": "2024-05-18T22:04:49.082013Z",
     "iopub.status.idle": "2024-05-18T22:04:49.092645Z",
     "shell.execute_reply": "2024-05-18T22:04:49.091692Z"
    },
    "papermill": {
     "duration": 0.042357,
     "end_time": "2024-05-18T22:04:49.094871",
     "exception": false,
     "start_time": "2024-05-18T22:04:49.052514",
     "status": "completed"
    },
    "tags": []
   },
   "outputs": [
    {
     "data": {
      "text/plain": [
       "SEX\n",
       "male      675\n",
       "female    662\n",
       "Name: count, dtype: int64"
      ]
     },
     "execution_count": 40,
     "metadata": {},
     "output_type": "execute_result"
    }
   ],
   "source": [
    "health_insurance3['SEX'].value_counts()"
   ]
  },
  {
   "cell_type": "code",
   "execution_count": 41,
   "id": "67d8c83e",
   "metadata": {
    "execution": {
     "iopub.execute_input": "2024-05-18T22:04:49.152694Z",
     "iopub.status.busy": "2024-05-18T22:04:49.152212Z",
     "iopub.status.idle": "2024-05-18T22:04:49.560086Z",
     "shell.execute_reply": "2024-05-18T22:04:49.558663Z"
    },
    "papermill": {
     "duration": 0.440289,
     "end_time": "2024-05-18T22:04:49.562958",
     "exception": false,
     "start_time": "2024-05-18T22:04:49.122669",
     "status": "completed"
    },
    "tags": []
   },
   "outputs": [
    {
     "data": {
      "text/plain": [
       "<Axes: xlabel='SEX'>"
      ]
     },
     "execution_count": 41,
     "metadata": {},
     "output_type": "execute_result"
    },
    {
     "data": {
      "image/png": "[encoded data removed]",
      "text/plain": [
       "<Figure size 640x480 with 1 Axes>"
      ]
     },
     "metadata": {},
     "output_type": "display_data"
    }
   ],
   "source": [
    "health_insurance3['SEX'].value_counts().plot(kind = 'bar')"
   ]
  },
  {
   "cell_type": "code",
   "execution_count": 42,
   "id": "2a99e27c",
   "metadata": {
    "execution": {
     "iopub.execute_input": "2024-05-18T22:04:49.620963Z",
     "iopub.status.busy": "2024-05-18T22:04:49.620546Z",
     "iopub.status.idle": "2024-05-18T22:04:49.872783Z",
     "shell.execute_reply": "2024-05-18T22:04:49.871422Z"
    },
    "papermill": {
     "duration": 0.28436,
     "end_time": "2024-05-18T22:04:49.875455",
     "exception": false,
     "start_time": "2024-05-18T22:04:49.591095",
     "status": "completed"
    },
    "tags": []
   },
   "outputs": [
    {
     "data": {
      "text/plain": [
       "<Axes: xlabel='SMOKER'>"
      ]
     },
     "execution_count": 42,
     "metadata": {},
     "output_type": "execute_result"
    },
    {
     "data": {
      "image/png": "[encoded data removed]",
      "text/plain": [
       "<Figure size 640x480 with 1 Axes>"
      ]
     },
     "metadata": {},
     "output_type": "display_data"
    }
   ],
   "source": [
    "health_insurance3['SMOKER'].value_counts().plot(kind = 'bar')"
   ]
  },
  {
   "cell_type": "code",
   "execution_count": 43,
   "id": "77402259",
   "metadata": {
    "execution": {
     "iopub.execute_input": "2024-05-18T22:04:49.937531Z",
     "iopub.status.busy": "2024-05-18T22:04:49.937110Z",
     "iopub.status.idle": "2024-05-18T22:04:49.959827Z",
     "shell.execute_reply": "2024-05-18T22:04:49.958450Z"
    },
    "papermill": {
     "duration": 0.056665,
     "end_time": "2024-05-18T22:04:49.962527",
     "exception": false,
     "start_time": "2024-05-18T22:04:49.905862",
     "status": "completed"
    },
    "tags": []
   },
   "outputs": [
    {
     "data": {
      "text/html": [
       "<div>\n",
       "<style scoped>\n",
       "    .dataframe tbody tr th:only-of-type {\n",
       "        vertical-align: middle;\n",
       "    }\n",
       "\n",
       "    .dataframe tbody tr th {\n",
       "        vertical-align: top;\n",
       "    }\n",
       "\n",
       "    .dataframe thead th {\n",
       "        text-align: right;\n",
       "    }\n",
       "</style>\n",
       "<table border=\"1\" class=\"dataframe\">\n",
       "  <thead>\n",
       "    <tr style=\"text-align: right;\">\n",
       "      <th></th>\n",
       "      <th>AGE</th>\n",
       "      <th>SEX</th>\n",
       "      <th>BMI</th>\n",
       "      <th>CHILDREN</th>\n",
       "      <th>SMOKER</th>\n",
       "      <th>REGION</th>\n",
       "      <th>CHARGES</th>\n",
       "      <th>occupation</th>\n",
       "      <th>Body_type</th>\n",
       "      <th>Data_info</th>\n",
       "    </tr>\n",
       "  </thead>\n",
       "  <tbody>\n",
       "    <tr>\n",
       "      <th>0</th>\n",
       "      <td>19</td>\n",
       "      <td>female</td>\n",
       "      <td>27.900</td>\n",
       "      <td>0</td>\n",
       "      <td>yes</td>\n",
       "      <td>southwest</td>\n",
       "      <td>16884.92400</td>\n",
       "      <td>student</td>\n",
       "      <td>Normalweight</td>\n",
       "      <td>Health insurance data</td>\n",
       "    </tr>\n",
       "    <tr>\n",
       "      <th>11</th>\n",
       "      <td>62</td>\n",
       "      <td>female</td>\n",
       "      <td>26.290</td>\n",
       "      <td>0</td>\n",
       "      <td>yes</td>\n",
       "      <td>southeast</td>\n",
       "      <td>27808.72510</td>\n",
       "      <td>Retired</td>\n",
       "      <td>Normalweight</td>\n",
       "      <td>Health insurance data</td>\n",
       "    </tr>\n",
       "    <tr>\n",
       "      <th>23</th>\n",
       "      <td>34</td>\n",
       "      <td>female</td>\n",
       "      <td>31.920</td>\n",
       "      <td>1</td>\n",
       "      <td>yes</td>\n",
       "      <td>northeast</td>\n",
       "      <td>37701.87680</td>\n",
       "      <td>working professional</td>\n",
       "      <td>Normalweight</td>\n",
       "      <td>Health insurance data</td>\n",
       "    </tr>\n",
       "    <tr>\n",
       "      <th>58</th>\n",
       "      <td>53</td>\n",
       "      <td>female</td>\n",
       "      <td>22.880</td>\n",
       "      <td>1</td>\n",
       "      <td>yes</td>\n",
       "      <td>southeast</td>\n",
       "      <td>23244.79020</td>\n",
       "      <td>working professional</td>\n",
       "      <td>underweight</td>\n",
       "      <td>Health insurance data</td>\n",
       "    </tr>\n",
       "    <tr>\n",
       "      <th>64</th>\n",
       "      <td>20</td>\n",
       "      <td>female</td>\n",
       "      <td>22.420</td>\n",
       "      <td>0</td>\n",
       "      <td>yes</td>\n",
       "      <td>northwest</td>\n",
       "      <td>14711.74380</td>\n",
       "      <td>student</td>\n",
       "      <td>underweight</td>\n",
       "      <td>Health insurance data</td>\n",
       "    </tr>\n",
       "    <tr>\n",
       "      <th>...</th>\n",
       "      <td>...</td>\n",
       "      <td>...</td>\n",
       "      <td>...</td>\n",
       "      <td>...</td>\n",
       "      <td>...</td>\n",
       "      <td>...</td>\n",
       "      <td>...</td>\n",
       "      <td>...</td>\n",
       "      <td>...</td>\n",
       "      <td>...</td>\n",
       "    </tr>\n",
       "    <tr>\n",
       "      <th>1308</th>\n",
       "      <td>25</td>\n",
       "      <td>female</td>\n",
       "      <td>30.200</td>\n",
       "      <td>0</td>\n",
       "      <td>yes</td>\n",
       "      <td>southwest</td>\n",
       "      <td>33900.65300</td>\n",
       "      <td>student</td>\n",
       "      <td>Normalweight</td>\n",
       "      <td>Health insurance data</td>\n",
       "    </tr>\n",
       "    <tr>\n",
       "      <th>1313</th>\n",
       "      <td>19</td>\n",
       "      <td>female</td>\n",
       "      <td>34.700</td>\n",
       "      <td>2</td>\n",
       "      <td>yes</td>\n",
       "      <td>southwest</td>\n",
       "      <td>36397.57600</td>\n",
       "      <td>student</td>\n",
       "      <td>Normalweight</td>\n",
       "      <td>Health insurance data</td>\n",
       "    </tr>\n",
       "    <tr>\n",
       "      <th>1314</th>\n",
       "      <td>30</td>\n",
       "      <td>female</td>\n",
       "      <td>23.655</td>\n",
       "      <td>3</td>\n",
       "      <td>yes</td>\n",
       "      <td>northwest</td>\n",
       "      <td>18765.87545</td>\n",
       "      <td>student</td>\n",
       "      <td>underweight</td>\n",
       "      <td>Health insurance data</td>\n",
       "    </tr>\n",
       "    <tr>\n",
       "      <th>1323</th>\n",
       "      <td>42</td>\n",
       "      <td>female</td>\n",
       "      <td>40.370</td>\n",
       "      <td>2</td>\n",
       "      <td>yes</td>\n",
       "      <td>southeast</td>\n",
       "      <td>43896.37630</td>\n",
       "      <td>working professional</td>\n",
       "      <td>Overweight</td>\n",
       "      <td>Health insurance data</td>\n",
       "    </tr>\n",
       "    <tr>\n",
       "      <th>1337</th>\n",
       "      <td>61</td>\n",
       "      <td>female</td>\n",
       "      <td>29.070</td>\n",
       "      <td>0</td>\n",
       "      <td>yes</td>\n",
       "      <td>northwest</td>\n",
       "      <td>29141.36030</td>\n",
       "      <td>Retired</td>\n",
       "      <td>Normalweight</td>\n",
       "      <td>Health insurance data</td>\n",
       "    </tr>\n",
       "  </tbody>\n",
       "</table>\n",
       "<p>115 rows × 10 columns</p>\n",
       "</div>"
      ],
      "text/plain": [
       "      AGE     SEX     BMI  CHILDREN SMOKER     REGION      CHARGES  \\\n",
       "0      19  female  27.900         0    yes  southwest  16884.92400   \n",
       "11     62  female  26.290         0    yes  southeast  27808.72510   \n",
       "23     34  female  31.920         1    yes  northeast  37701.87680   \n",
       "58     53  female  22.880         1    yes  southeast  23244.79020   \n",
       "64     20  female  22.420         0    yes  northwest  14711.74380   \n",
       "...   ...     ...     ...       ...    ...        ...          ...   \n",
       "1308   25  female  30.200         0    yes  southwest  33900.65300   \n",
       "1313   19  female  34.700         2    yes  southwest  36397.57600   \n",
       "1314   30  female  23.655         3    yes  northwest  18765.87545   \n",
       "1323   42  female  40.370         2    yes  southeast  43896.37630   \n",
       "1337   61  female  29.070         0    yes  northwest  29141.36030   \n",
       "\n",
       "                occupation     Body_type              Data_info  \n",
       "0                  student  Normalweight  Health insurance data  \n",
       "11                 Retired  Normalweight  Health insurance data  \n",
       "23    working professional  Normalweight  Health insurance data  \n",
       "58    working professional   underweight  Health insurance data  \n",
       "64                 student   underweight  Health insurance data  \n",
       "...                    ...           ...                    ...  \n",
       "1308               student  Normalweight  Health insurance data  \n",
       "1313               student  Normalweight  Health insurance data  \n",
       "1314               student   underweight  Health insurance data  \n",
       "1323  working professional    Overweight  Health insurance data  \n",
       "1337               Retired  Normalweight  Health insurance data  \n",
       "\n",
       "[115 rows x 10 columns]"
      ]
     },
     "execution_count": 43,
     "metadata": {},
     "output_type": "execute_result"
    }
   ],
   "source": [
    "female_smoker = health_insurance3[(health_insurance3['SEX'] == 'female') & (health_insurance3['SMOKER'] == 'yes')]\n",
    "female_smoker\n"
   ]
  },
  {
   "cell_type": "code",
   "execution_count": 44,
   "id": "38853162",
   "metadata": {
    "execution": {
     "iopub.execute_input": "2024-05-18T22:04:50.027595Z",
     "iopub.status.busy": "2024-05-18T22:04:50.027180Z",
     "iopub.status.idle": "2024-05-18T22:04:50.039716Z",
     "shell.execute_reply": "2024-05-18T22:04:50.037961Z"
    },
    "papermill": {
     "duration": 0.048701,
     "end_time": "2024-05-18T22:04:50.042086",
     "exception": false,
     "start_time": "2024-05-18T22:04:49.993385",
     "status": "completed"
    },
    "tags": []
   },
   "outputs": [
    {
     "name": "stdout",
     "output_type": "stream",
     "text": [
      "Number of female smokers: 115\n",
      "Number of female non-smokers: 547\n"
     ]
    }
   ],
   "source": [
    "female_smokers = health_insurance3[(health_insurance3['SEX'] == 'female') & (health_insurance3['SMOKER'] == 'yes')].shape[0]\n",
    "female_non_smokers = health_insurance3[(health_insurance3['SEX'] == 'female') & (health_insurance3['SMOKER'] == 'no')].shape[0]\n",
    "\n",
    "print(\"Number of female smokers:\", female_smokers)\n",
    "print(\"Number of female non-smokers:\", female_non_smokers)\n"
   ]
  },
  {
   "cell_type": "code",
   "execution_count": 45,
   "id": "13495dfe",
   "metadata": {
    "execution": {
     "iopub.execute_input": "2024-05-18T22:04:50.103430Z",
     "iopub.status.busy": "2024-05-18T22:04:50.103004Z",
     "iopub.status.idle": "2024-05-18T22:04:50.113782Z",
     "shell.execute_reply": "2024-05-18T22:04:50.112388Z"
    },
    "papermill": {
     "duration": 0.045578,
     "end_time": "2024-05-18T22:04:50.116897",
     "exception": false,
     "start_time": "2024-05-18T22:04:50.071319",
     "status": "completed"
    },
    "tags": []
   },
   "outputs": [
    {
     "name": "stdout",
     "output_type": "stream",
     "text": [
      "Number of male smokers: 159\n",
      "Number of male non-smokers: 516\n"
     ]
    }
   ],
   "source": [
    "male_smokers = health_insurance3[(health_insurance3['SEX'] == 'male') & (health_insurance3['SMOKER'] == 'yes')].shape[0]\n",
    "male_non_smokers = health_insurance3[(health_insurance3['SEX'] == 'male') & (health_insurance3['SMOKER'] == 'no')].shape[0]\n",
    "\n",
    "print(\"Number of male smokers:\", male_smokers)\n",
    "print(\"Number of male non-smokers:\", male_non_smokers)\n"
   ]
  },
  {
   "cell_type": "code",
   "execution_count": 46,
   "id": "3f61112c",
   "metadata": {
    "execution": {
     "iopub.execute_input": "2024-05-18T22:04:50.179093Z",
     "iopub.status.busy": "2024-05-18T22:04:50.178691Z",
     "iopub.status.idle": "2024-05-18T22:04:50.434074Z",
     "shell.execute_reply": "2024-05-18T22:04:50.432337Z"
    },
    "papermill": {
     "duration": 0.290456,
     "end_time": "2024-05-18T22:04:50.437099",
     "exception": false,
     "start_time": "2024-05-18T22:04:50.146643",
     "status": "completed"
    },
    "tags": []
   },
   "outputs": [
    {
     "data": {
      "image/png": "[encoded data removed]",
      "text/plain": [
       "<Figure size 640x480 with 1 Axes>"
      ]
     },
     "metadata": {},
     "output_type": "display_data"
    }
   ],
   "source": [
    "\n",
    "labels = ['Male Smokers', 'Male Non-Smokers']\n",
    "counts = [male_smokers, male_non_smokers]\n",
    "colors = ['lightcoral', 'lightskyblue']\n",
    "\n",
    "plt.bar(labels, counts, color=colors)\n",
    "plt.title('Population of Male Smokers vs Non-Smokers')\n",
    "plt.xlabel('Smoking Status')\n",
    "plt.ylabel('Population Count')\n",
    "plt.show()\n"
   ]
  },
  {
   "cell_type": "code",
   "execution_count": 47,
   "id": "fef06e6e",
   "metadata": {
    "execution": {
     "iopub.execute_input": "2024-05-18T22:04:50.499305Z",
     "iopub.status.busy": "2024-05-18T22:04:50.498507Z",
     "iopub.status.idle": "2024-05-18T22:04:50.510562Z",
     "shell.execute_reply": "2024-05-18T22:04:50.508895Z"
    },
    "papermill": {
     "duration": 0.046309,
     "end_time": "2024-05-18T22:04:50.513460",
     "exception": false,
     "start_time": "2024-05-18T22:04:50.467151",
     "status": "completed"
    },
    "tags": []
   },
   "outputs": [
    {
     "name": "stdout",
     "output_type": "stream",
     "text": [
      "Number of female smokers: 115\n",
      "Number of female non-smokers: 547\n"
     ]
    }
   ],
   "source": [
    "female_smokers = health_insurance3[(health_insurance3['SEX'] == 'female') & (health_insurance3['SMOKER'] == 'yes')].shape[0]\n",
    "female_non_smokers = health_insurance3[(health_insurance3['SEX'] == 'female') & (health_insurance3['SMOKER'] == 'no')].shape[0]\n",
    "\n",
    "print(\"Number of female smokers:\", female_smokers)\n",
    "print(\"Number of female non-smokers:\", female_non_smokers)"
   ]
  },
  {
   "cell_type": "code",
   "execution_count": 48,
   "id": "982c36a9",
   "metadata": {
    "execution": {
     "iopub.execute_input": "2024-05-18T22:04:50.577461Z",
     "iopub.status.busy": "2024-05-18T22:04:50.576973Z",
     "iopub.status.idle": "2024-05-18T22:04:50.839215Z",
     "shell.execute_reply": "2024-05-18T22:04:50.837960Z"
    },
    "papermill": {
     "duration": 0.29828,
     "end_time": "2024-05-18T22:04:50.841828",
     "exception": false,
     "start_time": "2024-05-18T22:04:50.543548",
     "status": "completed"
    },
    "tags": []
   },
   "outputs": [
    {
     "data": {
      "image/png": "[encoded data removed]",
      "text/plain": [
       "<Figure size 640x480 with 1 Axes>"
      ]
     },
     "metadata": {},
     "output_type": "display_data"
    }
   ],
   "source": [
    "female_smokers = health_insurance3[(health_insurance3['SEX'] == 'female') & (health_insurance3['SMOKER'] == 'yes')].shape[0]\n",
    "female_non_smokers = health_insurance3[(health_insurance3['SEX'] == 'female') & (health_insurance3['SMOKER'] == 'no')].shape[0]\n",
    "labels = ['Smokers', 'Non-Smokers']\n",
    "sizes = [female_smokers, female_non_smokers]\n",
    "colors = ['lightcoral', 'lightskyblue']\n",
    "\n",
    "plt.bar(labels, sizes, color=colors)\n",
    "plt.title('Population of Female Smokers vs Non-Smokers')\n",
    "plt.xlabel('Smoking Status')\n",
    "plt.ylabel('Population Count')\n",
    "plt.show()\n",
    "\n"
   ]
  },
  {
   "cell_type": "code",
   "execution_count": 49,
   "id": "139491fb",
   "metadata": {
    "execution": {
     "iopub.execute_input": "2024-05-18T22:04:50.905731Z",
     "iopub.status.busy": "2024-05-18T22:04:50.905249Z",
     "iopub.status.idle": "2024-05-18T22:04:51.149697Z",
     "shell.execute_reply": "2024-05-18T22:04:51.148330Z"
    },
    "papermill": {
     "duration": 0.28061,
     "end_time": "2024-05-18T22:04:51.152829",
     "exception": false,
     "start_time": "2024-05-18T22:04:50.872219",
     "status": "completed"
    },
    "tags": []
   },
   "outputs": [
    {
     "data": {
      "text/plain": [
       "<Axes: xlabel='occupation'>"
      ]
     },
     "execution_count": 49,
     "metadata": {},
     "output_type": "execute_result"
    },
    {
     "data": {
      "image/png": "[encoded data removed]",
      "text/plain": [
       "<Figure size 640x480 with 1 Axes>"
      ]
     },
     "metadata": {},
     "output_type": "display_data"
    }
   ],
   "source": [
    "health_insurance3['occupation'].value_counts().plot(kind = 'bar')"
   ]
  },
  {
   "cell_type": "code",
   "execution_count": 50,
   "id": "efd99442",
   "metadata": {
    "execution": {
     "iopub.execute_input": "2024-05-18T22:04:51.219836Z",
     "iopub.status.busy": "2024-05-18T22:04:51.219380Z",
     "iopub.status.idle": "2024-05-18T22:04:51.479605Z",
     "shell.execute_reply": "2024-05-18T22:04:51.478072Z"
    },
    "papermill": {
     "duration": 0.297301,
     "end_time": "2024-05-18T22:04:51.482766",
     "exception": false,
     "start_time": "2024-05-18T22:04:51.185465",
     "status": "completed"
    },
    "tags": []
   },
   "outputs": [
    {
     "name": "stdout",
     "output_type": "stream",
     "text": [
      "   AGE     SEX     BMI  CHILDREN SMOKER     REGION      CHARGES  \\\n",
      "0   19  female  27.900         0    yes  southwest  16884.92400   \n",
      "1   18    male  33.770         1     no  southeast   1725.55230   \n",
      "2   28    male  33.000         3     no  southeast   4449.46200   \n",
      "3   33    male  22.705         0     no  northwest  21984.47061   \n",
      "4   32    male  28.880         0     no  northwest   3866.85520   \n",
      "\n",
      "             occupation     Body_type              Data_info  \n",
      "0               student  Normalweight  Health insurance data  \n",
      "1               student  Normalweight  Health insurance data  \n",
      "2               student  Normalweight  Health insurance data  \n",
      "3  working professional   underweight  Health insurance data  \n",
      "4  working professional  Normalweight  Health insurance data  \n"
     ]
    },
    {
     "data": {
      "image/png": "[encoded data removed]",
      "text/plain": [
       "<Figure size 1000x600 with 1 Axes>"
      ]
     },
     "metadata": {},
     "output_type": "display_data"
    }
   ],
   "source": [
    "health_insurance3 = pd.DataFrame(health_insurance3)\n",
    "print(health_insurance3.head())\n",
    "plt.figure(figsize=(10, 6))\n",
    "sns.boxplot(x='SMOKER', y='CHARGES', data=health_insurance3, palette=\"Set3\")\n",
    "plt.title('Comparative Analysis of Charges: Smokers vs Non-Smokers')\n",
    "plt.xlabel('Smoker Status')\n",
    "plt.ylabel('Charges')\n",
    "plt.show()"
   ]
  },
  {
   "cell_type": "code",
   "execution_count": 51,
   "id": "8b67e6f5",
   "metadata": {
    "execution": {
     "iopub.execute_input": "2024-05-18T22:04:51.549022Z",
     "iopub.status.busy": "2024-05-18T22:04:51.548535Z",
     "iopub.status.idle": "2024-05-18T22:04:51.863459Z",
     "shell.execute_reply": "2024-05-18T22:04:51.862441Z"
    },
    "papermill": {
     "duration": 0.350697,
     "end_time": "2024-05-18T22:04:51.866009",
     "exception": false,
     "start_time": "2024-05-18T22:04:51.515312",
     "status": "completed"
    },
    "tags": []
   },
   "outputs": [
    {
     "name": "stdout",
     "output_type": "stream",
     "text": [
      "   AGE     SEX     BMI  CHILDREN SMOKER     REGION      CHARGES  \\\n",
      "0   19  female  27.900         0    yes  southwest  16884.92400   \n",
      "1   18    male  33.770         1     no  southeast   1725.55230   \n",
      "2   28    male  33.000         3     no  southeast   4449.46200   \n",
      "3   33    male  22.705         0     no  northwest  21984.47061   \n",
      "4   32    male  28.880         0     no  northwest   3866.85520   \n",
      "\n",
      "             occupation     Body_type              Data_info  \n",
      "0               student  Normalweight  Health insurance data  \n",
      "1               student  Normalweight  Health insurance data  \n",
      "2               student  Normalweight  Health insurance data  \n",
      "3  working professional   underweight  Health insurance data  \n",
      "4  working professional  Normalweight  Health insurance data  \n"
     ]
    },
    {
     "data": {
      "image/png": "[encoded data removed]",
      "text/plain": [
       "<Figure size 1000x600 with 1 Axes>"
      ]
     },
     "metadata": {},
     "output_type": "display_data"
    }
   ],
   "source": [
    "\n",
    "health_insurance3 = pd.DataFrame(health_insurance3)\n",
    "\n",
    "\n",
    "print(health_insurance3.head())\n",
    "\n",
    "# Plotting\n",
    "plt.figure(figsize=(10, 6))\n",
    "sns.boxplot(x='SEX', y='CHARGES', data=health_insurance3, palette=\"Set3\")\n",
    "plt.title('Comparative Analysis of Charges: Males vs Females')\n",
    "plt.xlabel('Sex')\n",
    "plt.ylabel('Charges')\n",
    "plt.show()\n"
   ]
  },
  {
   "cell_type": "code",
   "execution_count": 52,
   "id": "94b64e60",
   "metadata": {
    "execution": {
     "iopub.execute_input": "2024-05-18T22:04:51.935678Z",
     "iopub.status.busy": "2024-05-18T22:04:51.935077Z",
     "iopub.status.idle": "2024-05-18T22:04:52.239871Z",
     "shell.execute_reply": "2024-05-18T22:04:52.238694Z"
    },
    "papermill": {
     "duration": 0.342961,
     "end_time": "2024-05-18T22:04:52.242753",
     "exception": false,
     "start_time": "2024-05-18T22:04:51.899792",
     "status": "completed"
    },
    "tags": []
   },
   "outputs": [
    {
     "name": "stdout",
     "output_type": "stream",
     "text": [
      "   AGE     SEX     BMI  CHILDREN SMOKER     REGION      CHARGES  \\\n",
      "0   19  female  27.900         0    yes  southwest  16884.92400   \n",
      "1   18    male  33.770         1     no  southeast   1725.55230   \n",
      "2   28    male  33.000         3     no  southeast   4449.46200   \n",
      "3   33    male  22.705         0     no  northwest  21984.47061   \n",
      "4   32    male  28.880         0     no  northwest   3866.85520   \n",
      "\n",
      "             occupation     Body_type              Data_info  \n",
      "0               student  Normalweight  Health insurance data  \n",
      "1               student  Normalweight  Health insurance data  \n",
      "2               student  Normalweight  Health insurance data  \n",
      "3  working professional   underweight  Health insurance data  \n",
      "4  working professional  Normalweight  Health insurance data  \n"
     ]
    },
    {
     "data": {
      "image/png": "[encoded data removed]",
      "text/plain": [
       "<Figure size 1000x600 with 1 Axes>"
      ]
     },
     "metadata": {},
     "output_type": "display_data"
    }
   ],
   "source": [
    "health_insurance3 = pd.DataFrame(health_insurance3)\n",
    "\n",
    "\n",
    "print(health_insurance3.head())\n",
    "\n",
    "plt.figure(figsize=(10, 6))\n",
    "sns.boxplot(x='SMOKER', y='BMI', data=health_insurance3, palette=\"Set3\")\n",
    "plt.title('Comparative Analysis of BMI: Smokers vs Non-Smokers')\n",
    "plt.xlabel('Smoker Status')\n",
    "plt.ylabel('BMI')\n",
    "plt.show()\n"
   ]
  },
  {
   "cell_type": "code",
   "execution_count": 53,
   "id": "f2792390",
   "metadata": {
    "execution": {
     "iopub.execute_input": "2024-05-18T22:04:52.314894Z",
     "iopub.status.busy": "2024-05-18T22:04:52.313838Z",
     "iopub.status.idle": "2024-05-18T22:04:52.676084Z",
     "shell.execute_reply": "2024-05-18T22:04:52.675116Z"
    },
    "papermill": {
     "duration": 0.400827,
     "end_time": "2024-05-18T22:04:52.678755",
     "exception": false,
     "start_time": "2024-05-18T22:04:52.277928",
     "status": "completed"
    },
    "tags": []
   },
   "outputs": [
    {
     "name": "stdout",
     "output_type": "stream",
     "text": [
      "Correlation between Age and Insurance Charges: 0.2983082125097864\n"
     ]
    },
    {
     "data": {
      "image/png": "[encoded data removed]",
      "text/plain": [
       "<Figure size 1000x600 with 1 Axes>"
      ]
     },
     "metadata": {},
     "output_type": "display_data"
    }
   ],
   "source": [
    "correlation = health_insurance3['AGE'].corr(health_insurance3['CHARGES'])\n",
    "print(f'Correlation between Age and Insurance Charges: {correlation}')\n",
    "plt.figure(figsize=(10, 6))\n",
    "sns.scatterplot(x='AGE', y='CHARGES', data=health_insurance3)\n",
    "plt.title('Scatter Plot of Age vs Insurance Charges')\n",
    "plt.xlabel('Age')\n",
    "plt.ylabel('Insurance Charges')\n",
    "plt.show()\n"
   ]
  },
  {
   "cell_type": "code",
   "execution_count": 54,
   "id": "3fb64caa",
   "metadata": {
    "execution": {
     "iopub.execute_input": "2024-05-18T22:04:52.753558Z",
     "iopub.status.busy": "2024-05-18T22:04:52.752053Z",
     "iopub.status.idle": "2024-05-18T22:04:54.031710Z",
     "shell.execute_reply": "2024-05-18T22:04:54.030169Z"
    },
    "papermill": {
     "duration": 1.320635,
     "end_time": "2024-05-18T22:04:54.034466",
     "exception": false,
     "start_time": "2024-05-18T22:04:52.713831",
     "status": "completed"
    },
    "tags": []
   },
   "outputs": [
    {
     "data": {
      "image/png": "[encoded data removed]",
      "text/plain": [
       "<Figure size 600x400 with 1 Axes>"
      ]
     },
     "metadata": {},
     "output_type": "display_data"
    },
    {
     "data": {
      "image/png": "[encoded data removed]",
      "text/plain": [
       "<Figure size 600x400 with 1 Axes>"
      ]
     },
     "metadata": {},
     "output_type": "display_data"
    },
    {
     "data": {
      "image/png": "[encoded data removed]",
      "text/plain": [
       "<Figure size 600x400 with 1 Axes>"
      ]
     },
     "metadata": {},
     "output_type": "display_data"
    },
    {
     "data": {
      "image/png": "[encoded data removed]",
      "text/plain": [
       "<Figure size 600x400 with 1 Axes>"
      ]
     },
     "metadata": {},
     "output_type": "display_data"
    },
    {
     "data": {
      "image/png": "[encoded data removed]",
      "text/plain": [
       "<Figure size 600x400 with 1 Axes>"
      ]
     },
     "metadata": {},
     "output_type": "display_data"
    }
   ],
   "source": [
    "Cat_columns = ['SEX', 'SMOKER', 'REGION', 'occupation', 'Body_type']\n",
    "\n",
    "for col in Cat_columns:\n",
    "    plt.figure(figsize=(6, 4))\n",
    "    ax = health_insurance3[col].value_counts().plot(kind ='bar')\n",
    "    for i in ax.containers:\n",
    "        ax.bar_label(i)\n",
    "    plt.show()"
   ]
  },
  {
   "cell_type": "markdown",
   "id": "b9d66190",
   "metadata": {
    "papermill": {
     "duration": 0.036986,
     "end_time": "2024-05-18T22:04:54.108948",
     "exception": false,
     "start_time": "2024-05-18T22:04:54.071962",
     "status": "completed"
    },
    "tags": []
   },
   "source": [
    "### Executive Summary\n",
    "\n",
    "This analysis investigates the relationship between age, smoking status, gender, and insurance charges using the `health_insurance3` dataset. Key findings include:\n",
    "- A positive correlation between age and insurance charges (correlation coefficient: 0.9).\n",
    "- Smokers tend to have higher insurance charges compared to non-smokers.\n",
    "- Females have slightly higher insurance charges on average compared to males.\n"
   ]
  },
  {
   "cell_type": "markdown",
   "id": "cc975696",
   "metadata": {
    "papermill": {
     "duration": 0.036504,
     "end_time": "2024-05-18T22:04:54.184863",
     "exception": false,
     "start_time": "2024-05-18T22:04:54.148359",
     "status": "completed"
    },
    "tags": []
   },
   "source": [
    "### Introduction\n",
    "\n",
    "The purpose of this analysis is to understand how different factors such as age, smoking status, and gender influence insurance charges. By examining these relationships, we aim to identify potential areas for cost optimization and risk management.\n"
   ]
  },
  {
   "cell_type": "markdown",
   "id": "7c45c6b2",
   "metadata": {
    "papermill": {
     "duration": 0.036804,
     "end_time": "2024-05-18T22:04:54.258996",
     "exception": false,
     "start_time": "2024-05-18T22:04:54.222192",
     "status": "completed"
    },
    "tags": []
   },
   "source": [
    "### Data Description\n",
    "\n",
    "The dataset used for this analysis is `health_insurance3`, which contains the following variables:\n",
    "- `AGE`: Age of the policyholder\n",
    "- `SEX`: Gender of the policyholder (M/F)\n",
    "- `SMOKER`: Smoking status (yes/no)\n",
    "- `CHARGES`: Insurance charges\n",
    "- `BMI`: Body Mass Index\n",
    "- `occupation`: Occupation of the policyholder\n",
    "\n",
    "Preprocessing steps included handling missing values and ensuring data consistency.\n"
   ]
  },
  {
   "cell_type": "markdown",
   "id": "32c365a3",
   "metadata": {
    "papermill": {
     "duration": 0.036456,
     "end_time": "2024-05-18T22:04:54.331998",
     "exception": false,
     "start_time": "2024-05-18T22:04:54.295542",
     "status": "completed"
    },
    "tags": []
   },
   "source": [
    "### Exploratory Data Analysis (EDA)\n",
    "\n",
    "#### Age Distribution\n",
    "We analyzed the age distribution of the policyholders. The dataset shows a wide age range, with a concentration of policyholders in their 20s to 60s.\n",
    "\n",
    "![Age Distribution](path_to_age_distribution_plot.png)\n",
    "\n",
    "#### Smoking Status\n",
    "The dataset includes a nearly equal distribution of smokers and non-smokers. Smokers tend to have higher insurance charges.\n",
    "\n",
    "![Smoking Status](path_to_smoking_status_plot.png)\n"
   ]
  },
  {
   "cell_type": "markdown",
   "id": "541858c7",
   "metadata": {
    "papermill": {
     "duration": 0.037544,
     "end_time": "2024-05-18T22:04:54.407812",
     "exception": false,
     "start_time": "2024-05-18T22:04:54.370268",
     "status": "completed"
    },
    "tags": []
   },
   "source": [
    "### Analysis and Findings\n",
    "\n",
    "#### Correlation Between Age and Insurance Charges\n",
    "We found a strong positive correlation between age and insurance charges (correlation coefficient: 0.9).\n",
    "\n",
    "![Age vs Insurance Charges](path_to_scatter_plot.png)\n",
    "\n",
    "#### Comparison of Charges: Smokers vs Non-Smokers\n",
    "Boxplots reveal that smokers have significantly higher insurance charges compared to non-smokers.\n",
    "\n",
    "![Smokers vs Non-Smokers](path_to_boxplot.png)\n",
    "\n",
    "#### Gender-Based Analysis\n",
    "The average insurance charge for females is slightly higher than for males.\n",
    "\n",
    "![Gender Comparison](path_to_gender_comparison_plot.png)\n"
   ]
  },
  {
   "cell_type": "markdown",
   "id": "428c8b4d",
   "metadata": {
    "papermill": {
     "duration": 0.038953,
     "end_time": "2024-05-18T22:04:54.483943",
     "exception": false,
     "start_time": "2024-05-18T22:04:54.444990",
     "status": "completed"
    },
    "tags": []
   },
   "source": [
    "### Conclusions\n",
    "\n",
    "The analysis indicates that age and smoking status are significant predictors of insurance charges. Specifically, older individuals and smokers incur higher charges. Gender also plays a role, with females showing slightly higher charges on average.\n",
    "\n",
    "#### Recommendations\n",
    "- Implement targeted interventions for smokers to reduce health risks and associated charges.\n",
    "- Consider age-based adjustments in insurance premiums to better reflect risk profiles.\n"
   ]
  },
  {
   "cell_type": "markdown",
   "id": "463e0daf",
   "metadata": {
    "papermill": {
     "duration": 0.037674,
     "end_time": "2024-05-18T22:04:54.559186",
     "exception": false,
     "start_time": "2024-05-18T22:04:54.521512",
     "status": "completed"
    },
    "tags": []
   },
   "source": []
  }
 ],
 "metadata": {
  "kaggle": {
   "accelerator": "none",
   "dataSources": [
    {
     "datasetId": 160337,
     "sourceId": 367163,
     "sourceType": "datasetVersion"
    },
    {
     "datasetId": 5023788,
     "sourceId": 8434781,
     "sourceType": "datasetVersion"
    }
   ],
   "dockerImageVersionId": 30698,
   "isGpuEnabled": false,
   "isInternetEnabled": false,
   "language": "python",
   "sourceType": "notebook"
  },
  "kernelspec": {
   "display_name": "Python 3",
   "language": "python",
   "name": "python3"
  },
  "language_info": {
   "codemirror_mode": {
    "name": "ipython",
    "version": 3
   },
   "file_extension": ".py",
   "mimetype": "text/x-python",
   "name": "python",
   "nbconvert_exporter": "python",
   "pygments_lexer": "ipython3",
   "version": "3.10.13"
  },
  "papermill": {
   "default_parameters": {},
   "duration": 15.973491,
   "end_time": "2024-05-18T22:04:55.521302",
   "environment_variables": {},
   "exception": null,
   "input_path": "__notebook__.ipynb",
   "output_path": "__notebook__.ipynb",
   "parameters": {},
   "start_time": "2024-05-18T22:04:39.547811",
   "version": "2.5.0"
  }
 },
 "nbformat": 4,
 "nbformat_minor": 5
}
